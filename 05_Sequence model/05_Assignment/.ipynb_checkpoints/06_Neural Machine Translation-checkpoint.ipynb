{
 "cells": [
  {
   "cell_type": "markdown",
   "metadata": {},
   "source": [
    "# Neural Machine Translation\n",
    "\n",
    "Welcome to your first programming assignment for this week! \n",
    "\n",
    "You will build a Neural Machine Translation (NMT) model to translate human readable dates (\"25th of June, 2009\") into machine readable dates (\"2009-06-25\"). You will do this using an attention model, one of the most sophisticated sequence to sequence models. \n",
    "\n",
    "This notebook was produced together with NVIDIA's Deep Learning Institute. \n",
    "\n",
    "Let's load all the packages you will need for this assignment."
   ]
  },
  {
   "cell_type": "code",
   "execution_count": 3,
   "metadata": {},
   "outputs": [],
   "source": [
    "from keras.layers import Bidirectional, Concatenate, Permute, Dot, Input, LSTM, Multiply\n",
    "from keras.layers import RepeatVector, Dense, Activation, Lambda\n",
    "from keras.optimizers import Adam\n",
    "from keras.utils import to_categorical\n",
    "from keras.models import load_model, Model\n",
    "import keras.backend as K\n",
    "import numpy as np\n",
    "\n",
    "from faker import Faker\n",
    "import random\n",
    "from tqdm import tqdm\n",
    "from babel.dates import format_date\n",
    "from nmt_utils import *\n",
    "import matplotlib.pyplot as plt\n",
    "%matplotlib inline"
   ]
  },
  {
   "cell_type": "markdown",
   "metadata": {},
   "source": [
    "## 1 - Translating human readable dates into machine readable dates\n",
    "\n",
    "The model you will build here could be used to translate from one language to another, such as translating from English to Hindi. However, language translation requires massive datasets and usually takes days of training on GPUs. To give you a place to experiment with these models even without using massive datasets, we will instead use a simpler \"date translation\" task. \n",
    "\n",
    "The network will input a date written in a variety of possible formats (*e.g. \"the 29th of August 1958\", \"03/30/1968\", \"24 JUNE 1987\"*) and translate them into standardized, machine readable dates (*e.g. \"1958-08-29\", \"1968-03-30\", \"1987-06-24\"*). We will have the network learn to output dates in the common machine-readable format YYYY-MM-DD. \n",
    "\n",
    "\n",
    "\n",
    "<!-- \n",
    "Take a look at [nmt_utils.py](./nmt_utils.py) to see all the formatting. Count and figure out how the formats work, you will need this knowledge later. !--> "
   ]
  },
  {
   "cell_type": "markdown",
   "metadata": {},
   "source": [
    "### 1.1 - Dataset\n",
    "\n",
    "We will train the model on a dataset of 10000 human readable dates and their equivalent, standardized, machine readable dates. Let's run the following cells to load the dataset and print some examples. "
   ]
  },
  {
   "cell_type": "code",
   "execution_count": 4,
   "metadata": {},
   "outputs": [
    {
     "name": "stderr",
     "output_type": "stream",
     "text": [
      "100%|██████████████████████████████████| 10000/10000 [00:01<00:00, 8912.15it/s]\n"
     ]
    }
   ],
   "source": [
    "m = 10000\n",
    "dataset, human_vocab, machine_vocab, inv_machine_vocab = load_dataset(m)"
   ]
  },
  {
   "cell_type": "code",
   "execution_count": 13,
   "metadata": {},
   "outputs": [
    {
     "name": "stdout",
     "output_type": "stream",
     "text": [
      "[('9 may 1998', '1998-05-09'), ('10.09.70', '1970-09-10'), ('4/28/90', '1990-04-28'), ('thursday january 26 1995', '1995-01-26'), ('monday march 7 1983', '1983-03-07'), ('sunday may 22 1988', '1988-05-22'), ('tuesday july 8 2008', '2008-07-08'), ('08 sep 1999', '1999-09-08'), ('1 jan 1981', '1981-01-01'), ('monday may 22 1995', '1995-05-22')]\n",
      "<class 'dict'>\n"
     ]
    }
   ],
   "source": [
    "print(dataset[:10])\n",
    "print(type(human_vocab))"
   ]
  },
  {
   "cell_type": "code",
   "execution_count": 21,
   "metadata": {},
   "outputs": [
    {
     "name": "stdout",
     "output_type": "stream",
     "text": [
      "0 -\n",
      "1 0\n",
      "2 1\n",
      "3 2\n",
      "4 3\n",
      "5 4\n",
      "6 5\n",
      "7 6\n",
      "8 7\n",
      "9 8\n",
      "10 9\n"
     ]
    }
   ],
   "source": [
    "i=0\n",
    "for key,value in inv_machine_vocab.items():\n",
    "    if i<100:\n",
    "        print(key,value)\n",
    "        i=i+1"
   ]
  },
  {
   "cell_type": "markdown",
   "metadata": {},
   "source": [
    "You've loaded:\n",
    "- `dataset`: a list of tuples of (human readable date, machine readable date)\n",
    "- `human_vocab`: a python dictionary mapping all characters used in the human readable dates to an integer-valued index \n",
    "- `machine_vocab`: a python dictionary mapping all characters used in machine readable dates to an integer-valued index. These indices are not necessarily consistent with `human_vocab`. \n",
    "- `inv_machine_vocab`: the inverse dictionary of `machine_vocab`, mapping from indices back to characters. \n",
    "\n",
    "Let's preprocess the data and map the raw text data into the index values. We will also use Tx=30 (which we assume is the maximum length of the human readable date; if we get a longer input, we would have to truncate it) and Ty=10 (since \"YYYY-MM-DD\" is 10 characters long). "
   ]
  },
  {
   "cell_type": "code",
   "execution_count": 24,
   "metadata": {},
   "outputs": [
    {
     "name": "stdout",
     "output_type": "stream",
     "text": [
      "X.shape: (10000, 30)\n",
      "Y.shape: (10000, 10)\n",
      "Xoh.shape: (10000, 30, 37)\n",
      "Yoh.shape: (10000, 10, 11)\n",
      "X[0] [12  0 24 13 34  0  4 12 12 11 36 36 36 36 36 36 36 36 36 36 36 36 36 36\n",
      " 36 36 36 36 36 36]\n"
     ]
    }
   ],
   "source": [
    "Tx = 30\n",
    "Ty = 10\n",
    "X, Y, Xoh, Yoh = preprocess_data(dataset, human_vocab, machine_vocab, Tx, Ty)\n",
    "\n",
    "print(\"X.shape:\", X.shape)\n",
    "print(\"Y.shape:\", Y.shape)\n",
    "print(\"Xoh.shape:\", Xoh.shape)\n",
    "print(\"Yoh.shape:\", Yoh.shape)\n",
    "print('X[0]',X[0])"
   ]
  },
  {
   "cell_type": "markdown",
   "metadata": {},
   "source": [
    "You now have:\n",
    "- `X`: a processed version of the human readable dates in the training set, where each character is replaced by an index mapped to the character via `human_vocab`. Each date is further padded to $T_x$ values with a special character (< pad >). `X.shape = (m, Tx)`\n",
    "- `Y`: a processed version of the machine readable dates in the training set, where each character is replaced by the index it is mapped to in `machine_vocab`. You should have `Y.shape = (m, Ty)`. \n",
    "- `Xoh`: one-hot version of `X`, the \"1\" entry's index is mapped to the character thanks to `human_vocab`. `Xoh.shape = (m, Tx, len(human_vocab))`\n",
    "- `Yoh`: one-hot version of `Y`, the \"1\" entry's index is mapped to the character thanks to `machine_vocab`. `Yoh.shape = (m, Tx, len(machine_vocab))`. Here, `len(machine_vocab) = 11` since there are 11 characters ('-' as well as 0-9). \n"
   ]
  },
  {
   "cell_type": "markdown",
   "metadata": {},
   "source": [
    "Lets also look at some examples of preprocessed training examples. Feel free to play with `index` in the cell below to navigate the dataset and see how source/target dates are preprocessed. "
   ]
  },
  {
   "cell_type": "code",
   "execution_count": 16,
   "metadata": {},
   "outputs": [
    {
     "name": "stdout",
     "output_type": "stream",
     "text": [
      "Source date: 9 may 1998\n",
      "Target date: 1998-05-09\n",
      "\n",
      "Source after preprocessing (indices): [12  0 24 13 34  0  4 12 12 11 36 36 36 36 36 36 36 36 36 36 36 36 36 36\n",
      " 36 36 36 36 36 36]\n",
      "Target after preprocessing (indices): [ 2 10 10  9  0  1  6  0  1 10]\n",
      "\n",
      "Source after preprocessing (one-hot): [[0. 0. 0. ... 0. 0. 0.]\n",
      " [1. 0. 0. ... 0. 0. 0.]\n",
      " [0. 0. 0. ... 0. 0. 0.]\n",
      " ...\n",
      " [0. 0. 0. ... 0. 0. 1.]\n",
      " [0. 0. 0. ... 0. 0. 1.]\n",
      " [0. 0. 0. ... 0. 0. 1.]]\n",
      "Target after preprocessing (one-hot): [[0. 0. 1. 0. 0. 0. 0. 0. 0. 0. 0.]\n",
      " [0. 0. 0. 0. 0. 0. 0. 0. 0. 0. 1.]\n",
      " [0. 0. 0. 0. 0. 0. 0. 0. 0. 0. 1.]\n",
      " [0. 0. 0. 0. 0. 0. 0. 0. 0. 1. 0.]\n",
      " [1. 0. 0. 0. 0. 0. 0. 0. 0. 0. 0.]\n",
      " [0. 1. 0. 0. 0. 0. 0. 0. 0. 0. 0.]\n",
      " [0. 0. 0. 0. 0. 0. 1. 0. 0. 0. 0.]\n",
      " [1. 0. 0. 0. 0. 0. 0. 0. 0. 0. 0.]\n",
      " [0. 1. 0. 0. 0. 0. 0. 0. 0. 0. 0.]\n",
      " [0. 0. 0. 0. 0. 0. 0. 0. 0. 0. 1.]]\n"
     ]
    }
   ],
   "source": [
    "index = 0\n",
    "print(\"Source date:\", dataset[index][0])\n",
    "print(\"Target date:\", dataset[index][1])\n",
    "print()\n",
    "print(\"Source after preprocessing (indices):\", X[index])\n",
    "print(\"Target after preprocessing (indices):\", Y[index])\n",
    "print()\n",
    "print(\"Source after preprocessing (one-hot):\", Xoh[index])\n",
    "print(\"Target after preprocessing (one-hot):\", Yoh[index])"
   ]
  },
  {
   "cell_type": "markdown",
   "metadata": {},
   "source": [
    "## 2 - Neural machine translation with attention\n",
    "\n",
    "If you had to translate a book's paragraph from French to English, you would not read the whole paragraph, then close the book and translate. Even during the translation process, you would read/re-read and focus on the parts of the French paragraph corresponding to the parts of the English you are writing down. \n",
    "\n",
    "The attention mechanism tells a Neural Machine Translation model where it should pay attention to at any step. \n",
    "\n",
    "\n",
    "### 2.1 - Attention mechanism\n",
    "\n",
    "In this part, you will implement the attention mechanism presented in the lecture videos. Here is a figure to remind you how the model works. The diagram on the left shows the attention model. The diagram on the right shows what one \"Attention\" step does to calculate the attention variables $\\alpha^{\\langle t, t' \\rangle}$, which are used to compute the context variable $context^{\\langle t \\rangle}$ for each timestep in the output ($t=1, \\ldots, T_y$). \n",
    "\n",
    "<table>\n",
    "<td> \n",
    "<img src=\"images/attn_model.png\" style=\"width:500;height:500px;\"> <br>\n",
    "</td> \n",
    "<td> \n",
    "<img src=\"images/attn_mechanism.png\" style=\"width:500;height:500px;\"> <br>\n",
    "</td> \n",
    "</table>\n",
    "<caption><center> **Figure 1**: Neural machine translation with attention</center></caption>\n"
   ]
  },
  {
   "cell_type": "markdown",
   "metadata": {},
   "source": [
    "\n",
    "Here are some properties of the model that you may notice: \n",
    "\n",
    "- There are two separate LSTMs in this model (see diagram on the left). Because the one at the bottom of the picture is a Bi-directional LSTM and comes *before* the attention mechanism, we will call it *pre-attention* Bi-LSTM. The LSTM at the top of the diagram comes *after* the attention mechanism, so we will call it the *post-attention* LSTM. The pre-attention Bi-LSTM goes through $T_x$ time steps; the post-attention LSTM goes through $T_y$ time steps. \n",
    "\n",
    "- The post-attention LSTM passes $s^{\\langle t \\rangle}, c^{\\langle t \\rangle}$ from one time step to the next. In the lecture videos, we were using only a basic RNN for the post-activation sequence model, so the state captured by the RNN output activations $s^{\\langle t\\rangle}$. But since we are using an LSTM here, the LSTM has both the output activation $s^{\\langle t\\rangle}$ and the hidden cell state $c^{\\langle t\\rangle}$. However, unlike previous text generation examples (such as Dinosaurus in week 1), in this model the post-activation LSTM at time $t$ does will not take the specific generated $y^{\\langle t-1 \\rangle}$ as input; it only takes $s^{\\langle t\\rangle}$ and $c^{\\langle t\\rangle}$ as input. We have designed the model this way, because (unlike language generation where adjacent characters are highly correlated) there isn't as strong a dependency between the previous character and the next character in a YYYY-MM-DD date. \n",
    "\n",
    "- We use $a^{\\langle t \\rangle} = [\\overrightarrow{a}^{\\langle t \\rangle}; \\overleftarrow{a}^{\\langle t \\rangle}]$ to represent the concatenation of the activations of both the forward-direction and backward-directions of the pre-attention Bi-LSTM. \n",
    "\n",
    "- The diagram on the right uses a `RepeatVector` node to copy $s^{\\langle t-1 \\rangle}$'s value $T_x$ times, and then `Concatenation` to concatenate $s^{\\langle t-1 \\rangle}$ and $a^{\\langle t \\rangle}$ to compute $e^{\\langle t, t'}$, which is then passed through a softmax to compute $\\alpha^{\\langle t, t' \\rangle}$. We'll explain how to use `RepeatVector` and `Concatenation` in Keras below. \n",
    "\n",
    "Lets implement this model. You will start by implementing two functions: `one_step_attention()` and `model()`.\n",
    "\n",
    "**1) `one_step_attention()`**: At step $t$, given all the hidden states of the Bi-LSTM ($[a^{<1>},a^{<2>}, ..., a^{<T_x>}]$) and the previous hidden state of the second LSTM ($s^{<t-1>}$), `one_step_attention()` will compute the attention weights ($[\\alpha^{<t,1>},\\alpha^{<t,2>}, ..., \\alpha^{<t,T_x>}]$) and output the context vector (see Figure  1 (right) for details):\n",
    "$$context^{<t>} = \\sum_{t' = 0}^{T_x} \\alpha^{<t,t'>}a^{<t'>}\\tag{1}$$ \n",
    "\n",
    "Note that we are denoting the attention in this notebook $context^{\\langle t \\rangle}$. In the lecture videos, the context was denoted $c^{\\langle t \\rangle}$, but here we are calling it $context^{\\langle t \\rangle}$ to avoid confusion with the (post-attention) LSTM's internal memory cell variable, which is sometimes also denoted $c^{\\langle t \\rangle}$. \n",
    "  \n",
    "**2) `model()`**: Implements the entire model. It first runs the input through a Bi-LSTM to get back $[a^{<1>},a^{<2>}, ..., a^{<T_x>}]$. Then, it calls `one_step_attention()` $T_y$ times (`for` loop). At each iteration of this loop, it gives the computed context vector $c^{<t>}$ to the second LSTM, and runs the output of the LSTM through a dense layer with softmax activation to generate a prediction $\\hat{y}^{<t>}$. \n",
    "\n",
    "\n",
    "\n",
    "**Exercise**: Implement `one_step_attention()`. The function `model()` will call the layers in `one_step_attention()` $T_y$ using a for-loop, and it is important that all $T_y$ copies have the same weights. I.e., it should not re-initiaiize the weights every time. In other words, all $T_y$ steps should have shared weights. Here's how you can implement layers with shareable weights in Keras:\n",
    "1. Define the layer objects (as global variables for examples).\n",
    "2. Call these objects when propagating the input.\n",
    "\n",
    "We have defined the layers you need as global variables. Please run the following cells to create them. Please check the Keras documentation to make sure you understand what these layers are: [RepeatVector()](https://keras.io/layers/core/#repeatvector), [Concatenate()](https://keras.io/layers/merge/#concatenate), [Dense()](https://keras.io/layers/core/#dense), [Activation()](https://keras.io/layers/core/#activation), [Dot()](https://keras.io/layers/merge/#dot)."
   ]
  },
  {
   "cell_type": "code",
   "execution_count": 25,
   "metadata": {},
   "outputs": [],
   "source": [
    "# Defined shared layers as global variables\n",
    "repeator = RepeatVector(Tx)\n",
    "concatenator = Concatenate(axis=-1)\n",
    "densor1 = Dense(10, activation = \"tanh\")\n",
    "densor2 = Dense(1, activation = \"relu\")\n",
    "activator = Activation(softmax, name='attention_weights') # We are using a custom softmax(axis = 1) loaded in this notebook\n",
    "dotor = Dot(axes = 1)"
   ]
  },
  {
   "cell_type": "markdown",
   "metadata": {},
   "source": [
    "Now you can use these layers to implement `one_step_attention()`. In order to propagate a Keras tensor object X through one of these layers, use `layer(X)` (or `layer([X,Y])` if it requires multiple inputs.), e.g. `densor(X)` will propagate X through the `Dense(1)` layer defined above."
   ]
  },
  {
   "cell_type": "code",
   "execution_count": 46,
   "metadata": {},
   "outputs": [],
   "source": [
    "# GRADED FUNCTION: one_step_attention\n",
    "\n",
    "def one_step_attention(a, s_prev):\n",
    "    \"\"\"\n",
    "    Performs one step of attention: Outputs a context vector computed as a dot product of the attention weights\n",
    "    \"alphas\" and the hidden states \"a\" of the Bi-LSTM.\n",
    "    \n",
    "    Arguments:\n",
    "    a -- hidden state output of the Bi-LSTM, numpy-array of shape (m, Tx, 2*n_a)\n",
    "    s_prev -- previous hidden state of the (post-attention) LSTM, numpy-array of shape (m, n_s)\n",
    "    \n",
    "    Returns:\n",
    "    context -- context vector, input of the next (post-attetion) LSTM cell\n",
    "    \"\"\"\n",
    "    \n",
    "    ### START CODE HERE ###\n",
    "    # Use repeator to repeat s_prev to be of shape (m, Tx, n_s) so that you can concatenate it with all hidden states \"a\" (≈ 1 line)\n",
    "    s_prev = repeator(s_prev)\n",
    "    # Use concatenator to concatenate a and s_prev on the last axis (≈ 1 line)\n",
    "    concat = concatenator([a,s_prev])\n",
    "    # Use densor1 to propagate concat through a small fully-connected neural network to compute the \"intermediate energies\" variable e. (≈1 lines)\n",
    "    e = densor1(concat)\n",
    "    # Use densor2 to propagate e through a small fully-connected neural network to compute the \"energies\" variable energies. (≈1 lines)\n",
    "    energies = densor2(e)\n",
    "    # Use \"activator\" on \"energies\" to compute the attention weights \"alphas\" (≈ 1 line)\n",
    "    alphas = activator(energies)\n",
    "    # Use dotor together with \"alphas\" and \"a\" to compute the context vector to be given to the next (post-attention) LSTM-cell (≈ 1 line)\n",
    "    context = dotor([alphas,a])\n",
    "    ### END CODE HERE ###\n",
    "    \n",
    "    return context"
   ]
  },
  {
   "cell_type": "markdown",
   "metadata": {},
   "source": [
    "You will be able to check the expected output of `one_step_attention()` after you've coded the `model()` function."
   ]
  },
  {
   "cell_type": "markdown",
   "metadata": {},
   "source": [
    "**Exercise**: Implement `model()` as explained in figure 2 and the text above. Again, we have defined global layers that will share weights to be used in `model()`."
   ]
  },
  {
   "cell_type": "code",
   "execution_count": 35,
   "metadata": {},
   "outputs": [],
   "source": [
    "n_a = 32\n",
    "n_s = 64\n",
    "post_activation_LSTM_cell = LSTM(n_s, return_state = True)\n",
    "output_layer = Dense(len(machine_vocab), activation=softmax)"
   ]
  },
  {
   "cell_type": "markdown",
   "metadata": {},
   "source": [
    "Now you can use these layers $T_y$ times in a `for` loop to generate the outputs, and their parameters will not be reinitialized. You will have to carry out the following steps: \n",
    "\n",
    "1. Propagate the input into a [Bidirectional](https://keras.io/layers/wrappers/#bidirectional) [LSTM](https://keras.io/layers/recurrent/#lstm)\n",
    "2. Iterate for $t = 0, \\dots, T_y-1$: \n",
    "    1. Call `one_step_attention()` on $[\\alpha^{<t,1>},\\alpha^{<t,2>}, ..., \\alpha^{<t,T_x>}]$ and $s^{<t-1>}$ to get the context vector $context^{<t>}$.\n",
    "    2. Give $context^{<t>}$ to the post-attention LSTM cell. Remember pass in the previous hidden-state $s^{\\langle t-1\\rangle}$ and cell-states $c^{\\langle t-1\\rangle}$ of this LSTM using `initial_state= [previous hidden state, previous cell state]`. Get back the new hidden state $s^{<t>}$ and the new cell state $c^{<t>}$.\n",
    "    3. Apply a softmax layer to $s^{<t>}$, get the output. \n",
    "    4. Save the output by adding it to the list of outputs.\n",
    "\n",
    "3. Create your Keras model instance, it should have three inputs (\"inputs\", $s^{<0>}$ and $c^{<0>}$) and output the list of \"outputs\"."
   ]
  },
  {
   "cell_type": "code",
   "execution_count": 47,
   "metadata": {},
   "outputs": [],
   "source": [
    "# GRADED FUNCTION: model\n",
    "\n",
    "def model(Tx, Ty, n_a, n_s, human_vocab_size, machine_vocab_size):\n",
    "    \"\"\"\n",
    "    Arguments:\n",
    "    Tx -- length of the input sequence\n",
    "    Ty -- length of the output sequence\n",
    "    n_a -- hidden state size of the Bi-LSTM\n",
    "    n_s -- hidden state size of the post-attention LSTM\n",
    "    human_vocab_size -- size of the python dictionary \"human_vocab\"\n",
    "    machine_vocab_size -- size of the python dictionary \"machine_vocab\"\n",
    "\n",
    "    Returns:\n",
    "    model -- Keras model instance\n",
    "    \"\"\"\n",
    "    \n",
    "    # Define the inputs of your model with a shape (Tx,)\n",
    "    # Define s0 and c0, initial hidden state for the decoder LSTM of shape (n_s,)\n",
    "    X = Input(shape=(Tx, human_vocab_size))\n",
    "    s0 = Input(shape=(n_s,), name='s0')\n",
    "    c0 = Input(shape=(n_s,), name='c0')\n",
    "    s = s0\n",
    "    c = c0\n",
    "    \n",
    "    # Initialize empty list of outputs\n",
    "    outputs = []\n",
    "    \n",
    "    ### START CODE HERE ###\n",
    "    \n",
    "    # Step 1: Define your pre-attention Bi-LSTM. Remember to use return_sequences=True. (≈ 1 line)\n",
    "    a = Bidirectional(LSTM(units=n_a,return_sequences=True))(X)\n",
    "    \n",
    "    # Step 2: Iterate for Ty steps\n",
    "    for t in range(Ty):\n",
    "    \n",
    "        # Step 2.A: Perform one step of the attention mechanism to get back the context vector at step t (≈ 1 line)\n",
    "        context = one_step_attention(a,s)\n",
    "        \n",
    "        # Step 2.B: Apply the post-attention LSTM cell to the \"context\" vector.\n",
    "        # Don't forget to pass: initial_state = [hidden state, cell state] (≈ 1 line)\n",
    "        s, _, c = post_activation_LSTM_cell(context,initial_state=[s,c])\n",
    "        \n",
    "        # Step 2.C: Apply Dense layer to the hidden state output of the post-attention LSTM (≈ 1 line)\n",
    "        out = output_layer(s)\n",
    "        \n",
    "        # Step 2.D: Append \"out\" to the \"outputs\" list (≈ 1 line)\n",
    "        outputs.append(out)\n",
    "    \n",
    "    # Step 3: Create model instance taking three inputs and returning the list of outputs. (≈ 1 line)\n",
    "    model = Model(inputs=[X,s0,c0],outputs=outputs)\n",
    "    \n",
    "    ### END CODE HERE ###\n",
    "    \n",
    "    return model"
   ]
  },
  {
   "cell_type": "markdown",
   "metadata": {},
   "source": [
    "Run the following cell to create your model."
   ]
  },
  {
   "cell_type": "code",
   "execution_count": 48,
   "metadata": {},
   "outputs": [],
   "source": [
    "model = model(Tx, Ty, n_a, n_s, len(human_vocab), len(machine_vocab))"
   ]
  },
  {
   "cell_type": "markdown",
   "metadata": {},
   "source": [
    "Let's get a summary of the model to check if it matches the expected output."
   ]
  },
  {
   "cell_type": "code",
   "execution_count": 49,
   "metadata": {},
   "outputs": [
    {
     "name": "stdout",
     "output_type": "stream",
     "text": [
      "__________________________________________________________________________________________________\n",
      "Layer (type)                    Output Shape         Param #     Connected to                     \n",
      "==================================================================================================\n",
      "input_8 (InputLayer)            (None, 30, 37)       0                                            \n",
      "__________________________________________________________________________________________________\n",
      "s0 (InputLayer)                 (None, 64)           0                                            \n",
      "__________________________________________________________________________________________________\n",
      "bidirectional_6 (Bidirectional) (None, 30, 64)       17920       input_8[0][0]                    \n",
      "__________________________________________________________________________________________________\n",
      "repeat_vector_1 (RepeatVector)  (None, 30, 64)       0           s0[0][0]                         \n",
      "                                                                 lstm_4[0][0]                     \n",
      "                                                                 lstm_4[1][0]                     \n",
      "                                                                 lstm_4[2][0]                     \n",
      "                                                                 lstm_4[3][0]                     \n",
      "                                                                 lstm_4[4][0]                     \n",
      "                                                                 lstm_4[5][0]                     \n",
      "                                                                 lstm_4[6][0]                     \n",
      "                                                                 lstm_4[7][0]                     \n",
      "                                                                 lstm_4[8][0]                     \n",
      "__________________________________________________________________________________________________\n",
      "concatenate_1 (Concatenate)     (None, 30, 128)      0           bidirectional_6[0][0]            \n",
      "                                                                 repeat_vector_1[4][0]            \n",
      "                                                                 bidirectional_6[0][0]            \n",
      "                                                                 repeat_vector_1[5][0]            \n",
      "                                                                 bidirectional_6[0][0]            \n",
      "                                                                 repeat_vector_1[6][0]            \n",
      "                                                                 bidirectional_6[0][0]            \n",
      "                                                                 repeat_vector_1[7][0]            \n",
      "                                                                 bidirectional_6[0][0]            \n",
      "                                                                 repeat_vector_1[8][0]            \n",
      "                                                                 bidirectional_6[0][0]            \n",
      "                                                                 repeat_vector_1[9][0]            \n",
      "                                                                 bidirectional_6[0][0]            \n",
      "                                                                 repeat_vector_1[10][0]           \n",
      "                                                                 bidirectional_6[0][0]            \n",
      "                                                                 repeat_vector_1[11][0]           \n",
      "                                                                 bidirectional_6[0][0]            \n",
      "                                                                 repeat_vector_1[12][0]           \n",
      "                                                                 bidirectional_6[0][0]            \n",
      "                                                                 repeat_vector_1[13][0]           \n",
      "__________________________________________________________________________________________________\n",
      "dense_1 (Dense)                 (None, 30, 10)       1290        concatenate_1[2][0]              \n",
      "                                                                 concatenate_1[3][0]              \n",
      "                                                                 concatenate_1[4][0]              \n",
      "                                                                 concatenate_1[5][0]              \n",
      "                                                                 concatenate_1[6][0]              \n",
      "                                                                 concatenate_1[7][0]              \n",
      "                                                                 concatenate_1[8][0]              \n",
      "                                                                 concatenate_1[9][0]              \n",
      "                                                                 concatenate_1[10][0]             \n",
      "                                                                 concatenate_1[11][0]             \n",
      "__________________________________________________________________________________________________\n",
      "dense_2 (Dense)                 (None, 30, 1)        11          dense_1[2][0]                    \n",
      "                                                                 dense_1[3][0]                    \n",
      "                                                                 dense_1[4][0]                    \n",
      "                                                                 dense_1[5][0]                    \n",
      "                                                                 dense_1[6][0]                    \n",
      "                                                                 dense_1[7][0]                    \n",
      "                                                                 dense_1[8][0]                    \n",
      "                                                                 dense_1[9][0]                    \n",
      "                                                                 dense_1[10][0]                   \n",
      "                                                                 dense_1[11][0]                   \n",
      "__________________________________________________________________________________________________\n",
      "attention_weights (Activation)  (None, 30, 1)        0           dense_2[2][0]                    \n",
      "                                                                 dense_2[3][0]                    \n",
      "                                                                 dense_2[4][0]                    \n",
      "                                                                 dense_2[5][0]                    \n",
      "                                                                 dense_2[6][0]                    \n",
      "                                                                 dense_2[7][0]                    \n",
      "                                                                 dense_2[8][0]                    \n",
      "                                                                 dense_2[9][0]                    \n",
      "                                                                 dense_2[10][0]                   \n",
      "                                                                 dense_2[11][0]                   \n",
      "__________________________________________________________________________________________________\n",
      "dot_1 (Dot)                     (None, 1, 64)        0           attention_weights[2][0]          \n",
      "                                                                 bidirectional_6[0][0]            \n",
      "                                                                 attention_weights[3][0]          \n",
      "                                                                 bidirectional_6[0][0]            \n",
      "                                                                 attention_weights[4][0]          \n",
      "                                                                 bidirectional_6[0][0]            \n",
      "                                                                 attention_weights[5][0]          \n",
      "                                                                 bidirectional_6[0][0]            \n"
     ]
    },
    {
     "name": "stdout",
     "output_type": "stream",
     "text": [
      "                                                                 attention_weights[6][0]          \n",
      "                                                                 bidirectional_6[0][0]            \n",
      "                                                                 attention_weights[7][0]          \n",
      "                                                                 bidirectional_6[0][0]            \n",
      "                                                                 attention_weights[8][0]          \n",
      "                                                                 bidirectional_6[0][0]            \n",
      "                                                                 attention_weights[9][0]          \n",
      "                                                                 bidirectional_6[0][0]            \n",
      "                                                                 attention_weights[10][0]         \n",
      "                                                                 bidirectional_6[0][0]            \n",
      "                                                                 attention_weights[11][0]         \n",
      "                                                                 bidirectional_6[0][0]            \n",
      "__________________________________________________________________________________________________\n",
      "c0 (InputLayer)                 (None, 64)           0                                            \n",
      "__________________________________________________________________________________________________\n",
      "lstm_4 (LSTM)                   [(None, 64), (None,  33024       dot_1[0][0]                      \n",
      "                                                                 s0[0][0]                         \n",
      "                                                                 c0[0][0]                         \n",
      "                                                                 dot_1[1][0]                      \n",
      "                                                                 lstm_4[0][0]                     \n",
      "                                                                 lstm_4[0][2]                     \n",
      "                                                                 dot_1[2][0]                      \n",
      "                                                                 lstm_4[1][0]                     \n",
      "                                                                 lstm_4[1][2]                     \n",
      "                                                                 dot_1[3][0]                      \n",
      "                                                                 lstm_4[2][0]                     \n",
      "                                                                 lstm_4[2][2]                     \n",
      "                                                                 dot_1[4][0]                      \n",
      "                                                                 lstm_4[3][0]                     \n",
      "                                                                 lstm_4[3][2]                     \n",
      "                                                                 dot_1[5][0]                      \n",
      "                                                                 lstm_4[4][0]                     \n",
      "                                                                 lstm_4[4][2]                     \n",
      "                                                                 dot_1[6][0]                      \n",
      "                                                                 lstm_4[5][0]                     \n",
      "                                                                 lstm_4[5][2]                     \n",
      "                                                                 dot_1[7][0]                      \n",
      "                                                                 lstm_4[6][0]                     \n",
      "                                                                 lstm_4[6][2]                     \n",
      "                                                                 dot_1[8][0]                      \n",
      "                                                                 lstm_4[7][0]                     \n",
      "                                                                 lstm_4[7][2]                     \n",
      "                                                                 dot_1[9][0]                      \n",
      "                                                                 lstm_4[8][0]                     \n",
      "                                                                 lstm_4[8][2]                     \n",
      "__________________________________________________________________________________________________\n",
      "dense_4 (Dense)                 (None, 11)           715         lstm_4[0][0]                     \n",
      "                                                                 lstm_4[1][0]                     \n",
      "                                                                 lstm_4[2][0]                     \n",
      "                                                                 lstm_4[3][0]                     \n",
      "                                                                 lstm_4[4][0]                     \n",
      "                                                                 lstm_4[5][0]                     \n",
      "                                                                 lstm_4[6][0]                     \n",
      "                                                                 lstm_4[7][0]                     \n",
      "                                                                 lstm_4[8][0]                     \n",
      "                                                                 lstm_4[9][0]                     \n",
      "==================================================================================================\n",
      "Total params: 52,960\n",
      "Trainable params: 52,960\n",
      "Non-trainable params: 0\n",
      "__________________________________________________________________________________________________\n"
     ]
    }
   ],
   "source": [
    "model.summary()"
   ]
  },
  {
   "cell_type": "markdown",
   "metadata": {},
   "source": [
    "**Expected Output**:\n",
    "\n",
    "Here is the summary you should see\n",
    "<table>\n",
    "    <tr>\n",
    "        <td>\n",
    "            **Total params:**\n",
    "        </td>\n",
    "        <td>\n",
    "         52,960\n",
    "        </td>\n",
    "    </tr>\n",
    "        <tr>\n",
    "        <td>\n",
    "            **Trainable params:**\n",
    "        </td>\n",
    "        <td>\n",
    "         52,960\n",
    "        </td>\n",
    "    </tr>\n",
    "            <tr>\n",
    "        <td>\n",
    "            **Non-trainable params:**\n",
    "        </td>\n",
    "        <td>\n",
    "         0\n",
    "        </td>\n",
    "    </tr>\n",
    "                    <tr>\n",
    "        <td>\n",
    "            **bidirectional_1's output shape **\n",
    "        </td>\n",
    "        <td>\n",
    "         (None, 30, 64)  \n",
    "        </td>\n",
    "    </tr>\n",
    "    <tr>\n",
    "        <td>\n",
    "            **repeat_vector_1's output shape **\n",
    "        </td>\n",
    "        <td>\n",
    "         (None, 30, 64) \n",
    "        </td>\n",
    "    </tr>\n",
    "                <tr>\n",
    "        <td>\n",
    "            **concatenate_1's output shape **\n",
    "        </td>\n",
    "        <td>\n",
    "         (None, 30, 128) \n",
    "        </td>\n",
    "    </tr>\n",
    "            <tr>\n",
    "        <td>\n",
    "            **attention_weights's output shape **\n",
    "        </td>\n",
    "        <td>\n",
    "         (None, 30, 1)  \n",
    "        </td>\n",
    "    </tr>\n",
    "        <tr>\n",
    "        <td>\n",
    "            **dot_1's output shape **\n",
    "        </td>\n",
    "        <td>\n",
    "         (None, 1, 64)\n",
    "        </td>\n",
    "    </tr>\n",
    "           <tr>\n",
    "        <td>\n",
    "            **dense_3's output shape **\n",
    "        </td>\n",
    "        <td>\n",
    "         (None, 11) \n",
    "        </td>\n",
    "    </tr>\n",
    "</table>\n"
   ]
  },
  {
   "cell_type": "markdown",
   "metadata": {},
   "source": [
    "As usual, after creating your model in Keras, you need to compile it and define what loss, optimizer and metrics your are want to use. Compile your model using `categorical_crossentropy` loss, a custom [Adam](https://keras.io/optimizers/#adam) [optimizer](https://keras.io/optimizers/#usage-of-optimizers) (`learning rate = 0.005`, $\\beta_1 = 0.9$, $\\beta_2 = 0.999$, `decay = 0.01`)  and `['accuracy']` metrics:"
   ]
  },
  {
   "cell_type": "code",
   "execution_count": 51,
   "metadata": {},
   "outputs": [],
   "source": [
    "### START CODE HERE ### (≈2 lines)\n",
    "opt = Adam(lr = 0.005, beta_1=0.9, beta_2=0.999, decay = 0.01)\n",
    "model.compile(loss = 'categorical_crossentropy',optimizer=opt,metrics=['accuracy'])\n",
    "### END CODE HERE ###"
   ]
  },
  {
   "cell_type": "markdown",
   "metadata": {},
   "source": [
    "The last step is to define all your inputs and outputs to fit the model:\n",
    "- You already have X of shape $(m = 10000, T_x = 30)$ containing the training examples.\n",
    "- You need to create `s0` and `c0` to initialize your `post_activation_LSTM_cell` with 0s.\n",
    "- Given the `model()` you coded, you need the \"outputs\" to be a list of 11 elements of shape (m, T_y). So that: `outputs[i][0], ..., outputs[i][Ty]` represent the true labels (characters) corresponding to the $i^{th}$ training example (`X[i]`). More generally, `outputs[i][j]` is the true label of the $j^{th}$ character in the $i^{th}$ training example."
   ]
  },
  {
   "cell_type": "code",
   "execution_count": 71,
   "metadata": {},
   "outputs": [
    {
     "name": "stdout",
     "output_type": "stream",
     "text": [
      "(10000, 30, 37)\n",
      "(10000, 10, 11)\n",
      "10\n"
     ]
    }
   ],
   "source": [
    "s0 = np.zeros((m, n_s))\n",
    "c0 = np.zeros((m, n_s))\n",
    "outputs = list(Yoh.swapaxes(0,1))\n",
    "print(Xoh.shape)\n",
    "print(Yoh.shape)\n",
    "print(len(outputs))"
   ]
  },
  {
   "cell_type": "markdown",
   "metadata": {},
   "source": [
    "Let's now fit the model and run it for one epoch."
   ]
  },
  {
   "cell_type": "code",
   "execution_count": 56,
   "metadata": {},
   "outputs": [
    {
     "name": "stdout",
     "output_type": "stream",
     "text": [
      "Epoch 1/1\n"
     ]
    },
    {
     "name": "stdout",
     "output_type": "stream",
     "text": [
      " 2800/10000 [=======>......................] - ETA: 20:47 - loss: 24.0598 - dense_4_loss: 2.4057 - dense_4_acc: 0.0000e+00 - dense_4_acc_1: 0.0300 - dense_4_acc_2: 0.0100 - dense_4_acc_3: 0.0500 - dense_4_acc_4: 0.0000e+00 - dense_4_acc_5: 0.0000e+00 - dense_4_acc_6: 0.1000 - dense_4_acc_7: 0.0000e+00 - dense_4_acc_8: 0.0100 - dense_4_acc_9: 0.09 - ETA: 10:26 - loss: 23.8481 - dense_4_loss: 2.4116 - dense_4_acc: 0.0000e+00 - dense_4_acc_1: 0.0150 - dense_4_acc_2: 0.0050 - dense_4_acc_3: 0.0250 - dense_4_acc_4: 0.5000 - dense_4_acc_5: 0.0000e+00 - dense_4_acc_6: 0.0500 - dense_4_acc_7: 0.5000 - dense_4_acc_8: 0.0050 - dense_4_acc_9: 0.0450       - ETA: 6:58 - loss: 23.6430 - dense_4_loss: 2.4184 - dense_4_acc: 0.0000e+00 - dense_4_acc_1: 0.0767 - dense_4_acc_2: 0.0267 - dense_4_acc_3: 0.0233 - dense_4_acc_4: 0.6467 - dense_4_acc_5: 0.0000e+00 - dense_4_acc_6: 0.0333 - dense_4_acc_7: 0.6667 - dense_4_acc_8: 0.0033 - dense_4_acc_9: 0.0300 - ETA: 5:15 - loss: 23.4098 - dense_4_loss: 2.4392 - dense_4_acc: 0.0000e+00 - dense_4_acc_1: 0.1300 - dense_4_acc_2: 0.0325 - dense_4_acc_3: 0.0175 - dense_4_acc_4: 0.7350 - dense_4_acc_5: 0.0000e+00 - dense_4_acc_6: 0.0250 - dense_4_acc_7: 0.7500 - dense_4_acc_8: 0.0025 - dense_4_acc_9: 0.022 - ETA: 4:12 - loss: 23.1102 - dense_4_loss: 2.4920 - dense_4_acc: 0.0000e+00 - dense_4_acc_1: 0.1840 - dense_4_acc_2: 0.0260 - dense_4_acc_3: 0.0140 - dense_4_acc_4: 0.7880 - dense_4_acc_5: 0.0000e+00 - dense_4_acc_6: 0.0200 - dense_4_acc_7: 0.8000 - dense_4_acc_8: 0.0020 - dense_4_acc_9: 0.018 - ETA: 3:31 - loss: 22.8799 - dense_4_loss: 2.5765 - dense_4_acc: 0.0000e+00 - dense_4_acc_1: 0.2100 - dense_4_acc_2: 0.0217 - dense_4_acc_3: 0.0117 - dense_4_acc_4: 0.8233 - dense_4_acc_5: 0.0000e+00 - dense_4_acc_6: 0.0167 - dense_4_acc_7: 0.8333 - dense_4_acc_8: 0.0017 - dense_4_acc_9: 0.015 - ETA: 3:01 - loss: 22.7423 - dense_4_loss: 2.7017 - dense_4_acc: 0.0000e+00 - dense_4_acc_1: 0.2457 - dense_4_acc_2: 0.0629 - dense_4_acc_3: 0.0243 - dense_4_acc_4: 0.8486 - dense_4_acc_5: 0.0000e+00 - dense_4_acc_6: 0.0143 - dense_4_acc_7: 0.8571 - dense_4_acc_8: 0.0014 - dense_4_acc_9: 0.012 - ETA: 2:39 - loss: 22.6125 - dense_4_loss: 2.7747 - dense_4_acc: 0.0000e+00 - dense_4_acc_1: 0.2700 - dense_4_acc_2: 0.0812 - dense_4_acc_3: 0.0300 - dense_4_acc_4: 0.7425 - dense_4_acc_5: 0.0000e+00 - dense_4_acc_6: 0.0125 - dense_4_acc_7: 0.8750 - dense_4_acc_8: 0.0012 - dense_4_acc_9: 0.011 - ETA: 2:21 - loss: 22.5056 - dense_4_loss: 2.8008 - dense_4_acc: 0.0000e+00 - dense_4_acc_1: 0.2767 - dense_4_acc_2: 0.0944 - dense_4_acc_3: 0.0344 - dense_4_acc_4: 0.6600 - dense_4_acc_5: 0.0000e+00 - dense_4_acc_6: 0.0111 - dense_4_acc_7: 0.8889 - dense_4_acc_8: 0.0011 - dense_4_acc_9: 0.010 - ETA: 2:07 - loss: 22.4008 - dense_4_loss: 2.8099 - dense_4_acc: 0.0000e+00 - dense_4_acc_1: 0.2870 - dense_4_acc_2: 0.1040 - dense_4_acc_3: 0.0380 - dense_4_acc_4: 0.6940 - dense_4_acc_5: 0.0000e+00 - dense_4_acc_6: 0.0100 - dense_4_acc_7: 0.9000 - dense_4_acc_8: 1.0000e-03 - dense_4_acc_9: 0.009 - ETA: 1:56 - loss: 22.3193 - dense_4_loss: 2.8185 - dense_4_acc: 0.0000e+00 - dense_4_acc_1: 0.2982 - dense_4_acc_2: 0.1145 - dense_4_acc_3: 0.0409 - dense_4_acc_4: 0.7218 - dense_4_acc_5: 0.0000e+00 - dense_4_acc_6: 0.0091 - dense_4_acc_7: 0.9091 - dense_4_acc_8: 9.0909e-04 - dense_4_acc_9: 0.008 - ETA: 1:46 - loss: 22.2660 - dense_4_loss: 2.8179 - dense_4_acc: 0.0000e+00 - dense_4_acc_1: 0.3050 - dense_4_acc_2: 0.1233 - dense_4_acc_3: 0.0375 - dense_4_acc_4: 0.7450 - dense_4_acc_5: 0.0000e+00 - dense_4_acc_6: 0.0083 - dense_4_acc_7: 0.9167 - dense_4_acc_8: 8.3333e-04 - dense_4_acc_9: 0.007 - ETA: 1:38 - loss: 22.2172 - dense_4_loss: 2.8228 - dense_4_acc: 0.0000e+00 - dense_4_acc_1: 0.3054 - dense_4_acc_2: 0.1262 - dense_4_acc_3: 0.0346 - dense_4_acc_4: 0.7646 - dense_4_acc_5: 0.0000e+00 - dense_4_acc_6: 0.0077 - dense_4_acc_7: 0.9231 - dense_4_acc_8: 7.6923e-04 - dense_4_acc_9: 0.006 - ETA: 1:31 - loss: 22.1513 - dense_4_loss: 2.8190 - dense_4_acc: 0.0000e+00 - dense_4_acc_1: 0.3114 - dense_4_acc_2: 0.1307 - dense_4_acc_3: 0.0321 - dense_4_acc_4: 0.7814 - dense_4_acc_5: 0.0000e+00 - dense_4_acc_6: 0.0071 - dense_4_acc_7: 0.9286 - dense_4_acc_8: 7.1429e-04 - dense_4_acc_9: 0.006 - ETA: 1:25 - loss: 22.0825 - dense_4_loss: 2.8200 - dense_4_acc: 0.0000e+00 - dense_4_acc_1: 0.3180 - dense_4_acc_2: 0.1367 - dense_4_acc_3: 0.0300 - dense_4_acc_4: 0.7960 - dense_4_acc_5: 0.0000e+00 - dense_4_acc_6: 0.0067 - dense_4_acc_7: 0.9333 - dense_4_acc_8: 6.6667e-04 - dense_4_acc_9: 0.006 - ETA: 1:20 - loss: 22.0219 - dense_4_loss: 2.8235 - dense_4_acc: 0.0000e+00 - dense_4_acc_1: 0.3200 - dense_4_acc_2: 0.1419 - dense_4_acc_3: 0.0306 - dense_4_acc_4: 0.8087 - dense_4_acc_5: 0.0000e+00 - dense_4_acc_6: 0.0063 - dense_4_acc_7: 0.9375 - dense_4_acc_8: 6.2500e-04 - dense_4_acc_9: 0.005 - ETA: 1:15 - loss: 21.9676 - dense_4_loss: 2.8293 - dense_4_acc: 0.0000e+00 - dense_4_acc_1: 0.3212 - dense_4_acc_2: 0.1447 - dense_4_acc_3: 0.0335 - dense_4_acc_4: 0.8200 - dense_4_acc_5: 0.0000e+00 - dense_4_acc_6: 0.0059 - dense_4_acc_7: 0.9412 - dense_4_acc_8: 5.8824e-04 - dense_4_acc_9: 0.005 - ETA: 1:11 - loss: 21.9197 - dense_4_loss: 2.8376 - dense_4_acc: 0.0000e+00 - dense_4_acc_1: 0.3228 - dense_4_acc_2: 0.1467 - dense_4_acc_3: 0.0356 - dense_4_acc_4: 0.8000 - dense_4_acc_5: 0.0000e+00 - dense_4_acc_6: 0.0056 - dense_4_acc_7: 0.9444 - dense_4_acc_8: 5.5556e-04 - dense_4_acc_9: 0.005 - ETA: 1:07 - loss: 21.8496 - dense_4_loss: 2.8339 - dense_4_acc: 0.0000e+00 - dense_4_acc_1: 0.3263 - dense_4_acc_2: 0.1489 - dense_4_acc_3: 0.0411 - dense_4_acc_4: 0.7779 - dense_4_acc_5: 0.0000e+00 - dense_4_acc_6: 0.0053 - dense_4_acc_7: 0.9474 - dense_4_acc_8: 5.2632e-04 - dense_4_acc_9: 0.004 - ETA: 1:04 - loss: 21.7835 - dense_4_loss: 2.8353 - dense_4_acc: 0.0000e+00 - dense_4_acc_1: 0.3315 - dense_4_acc_2: 0.1535 - dense_4_acc_3: 0.0460 - dense_4_acc_4: 0.7655 - dense_4_acc_5: 0.0000e+00 - dense_4_acc_6: 0.0050 - dense_4_acc_7: 0.9500 - dense_4_acc_8: 5.0000e-04 - dense_4_acc_9: 0.004 - ETA: 1:00 - loss: 21.7248 - dense_4_loss: 2.8322 - dense_4_acc: 0.0000e+00 - dense_4_acc_1: 0.3314 - dense_4_acc_2: 0.1557 - dense_4_acc_3: 0.0505 - dense_4_acc_4: 0.7605 - dense_4_acc_5: 0.0000e+00 - dense_4_acc_6: 0.0048 - dense_4_acc_7: 0.9524 - dense_4_acc_8: 4.7619e-04 - dense_4_acc_9: 0.004 - ETA: 58s - loss: 21.6764 - dense_4_loss: 2.8330 - dense_4_acc: 0.0000e+00 - dense_4_acc_1: 0.3355 - dense_4_acc_2: 0.1618 - dense_4_acc_3: 0.0532 - dense_4_acc_4: 0.7714 - dense_4_acc_5: 0.0000e+00 - dense_4_acc_6: 0.0045 - dense_4_acc_7: 0.9545 - dense_4_acc_8: 4.5455e-04 - dense_4_acc_9: 0.004 - ETA: 55s - loss: 21.6305 - dense_4_loss: 2.8347 - dense_4_acc: 0.0000e+00 - dense_4_acc_1: 0.3400 - dense_4_acc_2: 0.1648 - dense_4_acc_3: 0.0557 - dense_4_acc_4: 0.7757 - dense_4_acc_5: 0.0000e+00 - dense_4_acc_6: 0.0043 - dense_4_acc_7: 0.9565 - dense_4_acc_8: 4.3478e-04 - dense_4_acc_9: 0.00 - ETA: 53s - loss: 21.5734 - dense_4_loss: 2.8336 - dense_4_acc: 0.0000e+00 - dense_4_acc_1: 0.3525 - dense_4_acc_2: 0.1667 - dense_4_acc_3: 0.0558 - dense_4_acc_4: 0.7675 - dense_4_acc_5: 0.0000e+00 - dense_4_acc_6: 0.0042 - dense_4_acc_7: 0.9583 - dense_4_acc_8: 4.1667e-04 - dense_4_acc_9: 0.00 - ETA: 51s - loss: 21.5173 - dense_4_loss: 2.8254 - dense_4_acc: 0.0000e+00 - dense_4_acc_1: 0.3644 - dense_4_acc_2: 0.1668 - dense_4_acc_3: 0.0576 - dense_4_acc_4: 0.7536 - dense_4_acc_5: 0.0000e+00 - dense_4_acc_6: 0.0040 - dense_4_acc_7: 0.9600 - dense_4_acc_8: 4.0000e-04 - dense_4_acc_9: 0.00 - ETA: 49s - loss: 21.4558 - dense_4_loss: 2.8247 - dense_4_acc: 0.0000e+00 - dense_4_acc_1: 0.3731 - dense_4_acc_2: 0.1696 - dense_4_acc_3: 0.0585 - dense_4_acc_4: 0.7623 - dense_4_acc_5: 0.0000e+00 - dense_4_acc_6: 0.0038 - dense_4_acc_7: 0.9615 - dense_4_acc_8: 3.8462e-04 - dense_4_acc_9: 0.00 - ETA: 47s - loss: 21.3923 - dense_4_loss: 2.8161 - dense_4_acc: 0.0000e+00 - dense_4_acc_1: 0.3807 - dense_4_acc_2: 0.1704 - dense_4_acc_3: 0.0596 - dense_4_acc_4: 0.7711 - dense_4_acc_5: 0.0000e+00 - dense_4_acc_6: 0.0037 - dense_4_acc_7: 0.9630 - dense_4_acc_8: 3.7037e-04 - dense_4_acc_9: 0.00 - ETA: 45s - loss: 21.3373 - dense_4_loss: 2.8126 - dense_4_acc: 0.0000e+00 - dense_4_acc_1: 0.3893 - dense_4_acc_2: 0.1736 - dense_4_acc_3: 0.0607 - dense_4_acc_4: 0.7793 - dense_4_acc_5: 0.0000e+00 - dense_4_acc_6: 0.0036 - dense_4_acc_7: 0.9643 - dense_4_acc_8: 3.5714e-04 - dense_4_acc_9: 0.0032\b\b\b\b\b\b\b\b\b\b\b\b\b\b\b\b\b\b\b\b\b\b\b\b\b\b\b\b\b\b\b\b\b\b\b\b\b\b\b\b\b\b\b\b\b\b\b\b\b\b\b\b\b\b\b\b\b\b\b\b\b\b\b\b\b\b\b\b\b\b\b\b\b\b\b\b\b\b\b\b\b\b\b\b\b\b\b\b\b\b\b\b\b\b\b\b\b\b\b\b\b\b\b\b\b\b\b\b\b\b\b\b\b\b\b\b\b\b\b\b\b\b\b\b\b\b\b\b\b\b\b\b\b\b\b\b\b\b\b\b\b\b\b\b\b\b\b\b\b\b\b\b\b\b\b\b\b\b\b\b\b\b\b\b\b\b\b\b\b\b\b\b\b\b\b\b\b\b\b\b\b\b\b\b\b\b\b\b\b\b\b\b\b\b\b\b\b\b\b\b\b\b\b\b\b\b\b\b\b\b\b\b\b\b\b\b\b\b\b\b\b\b\b\b\b\b\b\b\b\b\b\b\b\b\b\b\b\b\b\b\b\b\b\b\b\b\b\b\b\b\b\b\b\b\b\b\b\b\b\b\b\b\b\b\b\b\b\b\b\b\b\b\b\b\b\b\b\b\b\b\b\b\b\b\b\b\b\b\b\b\b\b\b\b\b\b\b\b\b\b\b\b\b\b\b\b\b\b\b\b\b\b\b\b\b\b\b\b\b\b\b\b\b\b\b\b\b\b\b\b\b\b\b\b\b\b\b\b\b\b\b\b\b\b"
     ]
    },
    {
     "name": "stdout",
     "output_type": "stream",
     "text": [
      " 5700/10000 [================>.............] - ETA: 43s - loss: 21.2790 - dense_4_loss: 2.8116 - dense_4_acc: 0.0000e+00 - dense_4_acc_1: 0.3979 - dense_4_acc_2: 0.1738 - dense_4_acc_3: 0.0593 - dense_4_acc_4: 0.7869 - dense_4_acc_5: 0.0000e+00 - dense_4_acc_6: 0.0034 - dense_4_acc_7: 0.9655 - dense_4_acc_8: 3.4483e-04 - dense_4_acc_9: 0.00 - ETA: 42s - loss: 21.2263 - dense_4_loss: 2.8091 - dense_4_acc: 0.0000e+00 - dense_4_acc_1: 0.4047 - dense_4_acc_2: 0.1773 - dense_4_acc_3: 0.0573 - dense_4_acc_4: 0.7940 - dense_4_acc_5: 0.0000e+00 - dense_4_acc_6: 0.0033 - dense_4_acc_7: 0.9667 - dense_4_acc_8: 3.3333e-04 - dense_4_acc_9: 0.00 - ETA: 40s - loss: 21.1677 - dense_4_loss: 2.8082 - dense_4_acc: 0.0000e+00 - dense_4_acc_1: 0.4100 - dense_4_acc_2: 0.1868 - dense_4_acc_3: 0.0555 - dense_4_acc_4: 0.8006 - dense_4_acc_5: 0.0000e+00 - dense_4_acc_6: 0.0032 - dense_4_acc_7: 0.9677 - dense_4_acc_8: 0.0148 - dense_4_acc_9: 0.0081   - ETA: 39s - loss: 21.1001 - dense_4_loss: 2.8046 - dense_4_acc: 0.0000e+00 - dense_4_acc_1: 0.4184 - dense_4_acc_2: 0.1897 - dense_4_acc_3: 0.0538 - dense_4_acc_4: 0.8069 - dense_4_acc_5: 0.0000e+00 - dense_4_acc_6: 0.0031 - dense_4_acc_7: 0.9688 - dense_4_acc_8: 0.0250 - dense_4_acc_9: 0.01 - ETA: 37s - loss: 21.0389 - dense_4_loss: 2.8000 - dense_4_acc: 0.0000e+00 - dense_4_acc_1: 0.4252 - dense_4_acc_2: 0.1912 - dense_4_acc_3: 0.0545 - dense_4_acc_4: 0.8127 - dense_4_acc_5: 0.0000e+00 - dense_4_acc_6: 0.0030 - dense_4_acc_7: 0.9697 - dense_4_acc_8: 0.0348 - dense_4_acc_9: 0.01 - ETA: 36s - loss: 20.9834 - dense_4_loss: 2.7992 - dense_4_acc: 0.0000e+00 - dense_4_acc_1: 0.4318 - dense_4_acc_2: 0.1903 - dense_4_acc_3: 0.0529 - dense_4_acc_4: 0.8182 - dense_4_acc_5: 0.0000e+00 - dense_4_acc_6: 0.0029 - dense_4_acc_7: 0.9706 - dense_4_acc_8: 0.0418 - dense_4_acc_9: 0.01 - ETA: 35s - loss: 20.9269 - dense_4_loss: 2.8002 - dense_4_acc: 0.0186 - dense_4_acc_1: 0.4380 - dense_4_acc_2: 0.1934 - dense_4_acc_3: 0.0514 - dense_4_acc_4: 0.8234 - dense_4_acc_5: 0.0000e+00 - dense_4_acc_6: 0.0029 - dense_4_acc_7: 0.9714 - dense_4_acc_8: 0.0489 - dense_4_acc_9: 0.0214   - ETA: 34s - loss: 20.8705 - dense_4_loss: 2.7987 - dense_4_acc: 0.0350 - dense_4_acc_1: 0.4428 - dense_4_acc_2: 0.1967 - dense_4_acc_3: 0.0500 - dense_4_acc_4: 0.8283 - dense_4_acc_5: 0.0000e+00 - dense_4_acc_6: 0.0028 - dense_4_acc_7: 0.9722 - dense_4_acc_8: 0.0536 - dense_4_acc_9: 0.02 - ETA: 32s - loss: 20.8090 - dense_4_loss: 2.7995 - dense_4_acc: 0.0511 - dense_4_acc_1: 0.4478 - dense_4_acc_2: 0.2022 - dense_4_acc_3: 0.0486 - dense_4_acc_4: 0.8330 - dense_4_acc_5: 0.0000e+00 - dense_4_acc_6: 0.0027 - dense_4_acc_7: 0.9730 - dense_4_acc_8: 0.0522 - dense_4_acc_9: 0.02 - ETA: 31s - loss: 20.7503 - dense_4_loss: 2.7995 - dense_4_acc: 0.0666 - dense_4_acc_1: 0.4529 - dense_4_acc_2: 0.2050 - dense_4_acc_3: 0.0508 - dense_4_acc_4: 0.8374 - dense_4_acc_5: 0.0000e+00 - dense_4_acc_6: 0.0026 - dense_4_acc_7: 0.9658 - dense_4_acc_8: 0.0539 - dense_4_acc_9: 0.02 - ETA: 30s - loss: 20.6836 - dense_4_loss: 2.7954 - dense_4_acc: 0.0810 - dense_4_acc_1: 0.4574 - dense_4_acc_2: 0.2082 - dense_4_acc_3: 0.0526 - dense_4_acc_4: 0.8415 - dense_4_acc_5: 0.0000e+00 - dense_4_acc_6: 0.0028 - dense_4_acc_7: 0.9662 - dense_4_acc_8: 0.0595 - dense_4_acc_9: 0.03 - ETA: 29s - loss: 20.6168 - dense_4_loss: 2.7923 - dense_4_acc: 0.0945 - dense_4_acc_1: 0.4615 - dense_4_acc_2: 0.2127 - dense_4_acc_3: 0.0542 - dense_4_acc_4: 0.8455 - dense_4_acc_5: 0.0000e+00 - dense_4_acc_6: 0.0028 - dense_4_acc_7: 0.9660 - dense_4_acc_8: 0.0685 - dense_4_acc_9: 0.03 - ETA: 28s - loss: 20.5455 - dense_4_loss: 2.7871 - dense_4_acc: 0.1095 - dense_4_acc_1: 0.4676 - dense_4_acc_2: 0.2151 - dense_4_acc_3: 0.0546 - dense_4_acc_4: 0.8493 - dense_4_acc_5: 0.0000e+00 - dense_4_acc_6: 0.0027 - dense_4_acc_7: 0.9668 - dense_4_acc_8: 0.0756 - dense_4_acc_9: 0.03 - ETA: 27s - loss: 20.4861 - dense_4_loss: 2.7825 - dense_4_acc: 0.1214 - dense_4_acc_1: 0.4710 - dense_4_acc_2: 0.2138 - dense_4_acc_3: 0.0557 - dense_4_acc_4: 0.8529 - dense_4_acc_5: 0.0000e+00 - dense_4_acc_6: 0.0026 - dense_4_acc_7: 0.9676 - dense_4_acc_8: 0.0776 - dense_4_acc_9: 0.04 - ETA: 27s - loss: 20.4230 - dense_4_loss: 2.7782 - dense_4_acc: 0.1312 - dense_4_acc_1: 0.4726 - dense_4_acc_2: 0.2151 - dense_4_acc_3: 0.0549 - dense_4_acc_4: 0.8563 - dense_4_acc_5: 0.0000e+00 - dense_4_acc_6: 0.0026 - dense_4_acc_7: 0.9684 - dense_4_acc_8: 0.0786 - dense_4_acc_9: 0.04 - ETA: 26s - loss: 20.3586 - dense_4_loss: 2.7761 - dense_4_acc: 0.1427 - dense_4_acc_1: 0.4764 - dense_4_acc_2: 0.2177 - dense_4_acc_3: 0.0536 - dense_4_acc_4: 0.8595 - dense_4_acc_5: 0.0000e+00 - dense_4_acc_6: 0.0025 - dense_4_acc_7: 0.9691 - dense_4_acc_8: 0.0820 - dense_4_acc_9: 0.04 - ETA: 25s - loss: 20.2904 - dense_4_loss: 2.7752 - dense_4_acc: 0.1536 - dense_4_acc_1: 0.4798 - dense_4_acc_2: 0.2211 - dense_4_acc_3: 0.0549 - dense_4_acc_4: 0.8627 - dense_4_acc_5: 0.0027 - dense_4_acc_6: 0.0027 - dense_4_acc_7: 0.9698 - dense_4_acc_8: 0.0818 - dense_4_acc_9: 0.0489   - ETA: 24s - loss: 20.2240 - dense_4_loss: 2.7743 - dense_4_acc: 0.1635 - dense_4_acc_1: 0.4826 - dense_4_acc_2: 0.2226 - dense_4_acc_3: 0.0567 - dense_4_acc_4: 0.8657 - dense_4_acc_5: 0.0059 - dense_4_acc_6: 0.0035 - dense_4_acc_7: 0.9667 - dense_4_acc_8: 0.0920 - dense_4_acc_9: 0.05 - ETA: 23s - loss: 20.1461 - dense_4_loss: 2.7704 - dense_4_acc: 0.1757 - dense_4_acc_1: 0.4889 - dense_4_acc_2: 0.2251 - dense_4_acc_3: 0.0555 - dense_4_acc_4: 0.8685 - dense_4_acc_5: 0.0106 - dense_4_acc_6: 0.0043 - dense_4_acc_7: 0.9626 - dense_4_acc_8: 0.0991 - dense_4_acc_9: 0.05 - ETA: 23s - loss: 20.0761 - dense_4_loss: 2.7730 - dense_4_acc: 0.1854 - dense_4_acc_1: 0.4927 - dense_4_acc_2: 0.2285 - dense_4_acc_3: 0.0552 - dense_4_acc_4: 0.8712 - dense_4_acc_5: 0.0171 - dense_4_acc_6: 0.0048 - dense_4_acc_7: 0.9606 - dense_4_acc_8: 0.1050 - dense_4_acc_9: 0.05 - ETA: 22s - loss: 20.0106 - dense_4_loss: 2.7724 - dense_4_acc: 0.1941 - dense_4_acc_1: 0.4953 - dense_4_acc_2: 0.2312 - dense_4_acc_3: 0.0578 - dense_4_acc_4: 0.8739 - dense_4_acc_5: 0.0224 - dense_4_acc_6: 0.0049 - dense_4_acc_7: 0.9614 - dense_4_acc_8: 0.1043 - dense_4_acc_9: 0.05 - ETA: 21s - loss: 19.9390 - dense_4_loss: 2.7682 - dense_4_acc: 0.2030 - dense_4_acc_1: 0.5028 - dense_4_acc_2: 0.2330 - dense_4_acc_3: 0.0568 - dense_4_acc_4: 0.8764 - dense_4_acc_5: 0.0312 - dense_4_acc_6: 0.0050 - dense_4_acc_7: 0.9622 - dense_4_acc_8: 0.1050 - dense_4_acc_9: 0.05 - ETA: 21s - loss: 19.8621 - dense_4_loss: 2.7651 - dense_4_acc: 0.2114 - dense_4_acc_1: 0.5082 - dense_4_acc_2: 0.2359 - dense_4_acc_3: 0.0575 - dense_4_acc_4: 0.8788 - dense_4_acc_5: 0.0402 - dense_4_acc_6: 0.0049 - dense_4_acc_7: 0.9629 - dense_4_acc_8: 0.1076 - dense_4_acc_9: 0.05 - ETA: 20s - loss: 19.7903 - dense_4_loss: 2.7621 - dense_4_acc: 0.2185 - dense_4_acc_1: 0.5096 - dense_4_acc_2: 0.2381 - dense_4_acc_3: 0.0583 - dense_4_acc_4: 0.8812 - dense_4_acc_5: 0.0492 - dense_4_acc_6: 0.0054 - dense_4_acc_7: 0.9637 - dense_4_acc_8: 0.1115 - dense_4_acc_9: 0.05 - ETA: 19s - loss: 19.7126 - dense_4_loss: 2.7576 - dense_4_acc: 0.2260 - dense_4_acc_1: 0.5117 - dense_4_acc_2: 0.2404 - dense_4_acc_3: 0.0591 - dense_4_acc_4: 0.8834 - dense_4_acc_5: 0.0634 - dense_4_acc_6: 0.0055 - dense_4_acc_7: 0.9643 - dense_4_acc_8: 0.1170 - dense_4_acc_9: 0.05 - ETA: 19s - loss: 19.6352 - dense_4_loss: 2.7527 - dense_4_acc: 0.2324 - dense_4_acc_1: 0.5131 - dense_4_acc_2: 0.2439 - dense_4_acc_3: 0.0583 - dense_4_acc_4: 0.8856 - dense_4_acc_5: 0.0763 - dense_4_acc_6: 0.0059 - dense_4_acc_7: 0.9650 - dense_4_acc_8: 0.1219 - dense_4_acc_9: 0.06 - ETA: 18s - loss: 19.5482 - dense_4_loss: 2.7500 - dense_4_acc: 0.2405 - dense_4_acc_1: 0.5162 - dense_4_acc_2: 0.2465 - dense_4_acc_3: 0.0602 - dense_4_acc_4: 0.8876 - dense_4_acc_5: 0.0891 - dense_4_acc_6: 0.0075 - dense_4_acc_7: 0.9656 - dense_4_acc_8: 0.1262 - dense_4_acc_9: 0.06 - ETA: 17s - loss: 19.4615 - dense_4_loss: 2.7463 - dense_4_acc: 0.2473 - dense_4_acc_1: 0.5180 - dense_4_acc_2: 0.2482 - dense_4_acc_3: 0.0621 - dense_4_acc_4: 0.8896 - dense_4_acc_5: 0.1007 - dense_4_acc_6: 0.0082 - dense_4_acc_7: 0.9662 - dense_4_acc_8: 0.1323 - dense_4_acc_9: 0.06 - ETA: 17s - loss: 19.3707 - dense_4_loss: 2.7403 - dense_4_acc: 0.2544 - dense_4_acc_1: 0.5205 - dense_4_acc_2: 0.2495 - dense_4_acc_3: 0.0616 - dense_4_acc_4: 0.8916 - dense_4_acc_5: 0.1121 - dense_4_acc_6: 0.0084 - dense_4_acc_7: 0.9668 - dense_4_acc_8: 0.1358 - dense_4_acc_9: 0.0653"
     ]
    },
    {
     "name": "stdout",
     "output_type": "stream",
     "text": [
      " 8600/10000 [========================>.....] - ETA: 16s - loss: 19.2787 - dense_4_loss: 2.7348 - dense_4_acc: 0.2621 - dense_4_acc_1: 0.5236 - dense_4_acc_2: 0.2502 - dense_4_acc_3: 0.0619 - dense_4_acc_4: 0.8934 - dense_4_acc_5: 0.1226 - dense_4_acc_6: 0.0086 - dense_4_acc_7: 0.9674 - dense_4_acc_8: 0.1383 - dense_4_acc_9: 0.06 - ETA: 16s - loss: 19.1857 - dense_4_loss: 2.7287 - dense_4_acc: 0.2685 - dense_4_acc_1: 0.5258 - dense_4_acc_2: 0.2522 - dense_4_acc_3: 0.0629 - dense_4_acc_4: 0.8953 - dense_4_acc_5: 0.1334 - dense_4_acc_6: 0.0105 - dense_4_acc_7: 0.9680 - dense_4_acc_8: 0.1407 - dense_4_acc_9: 0.06 - ETA: 15s - loss: 19.0905 - dense_4_loss: 2.7235 - dense_4_acc: 0.2738 - dense_4_acc_1: 0.5268 - dense_4_acc_2: 0.2552 - dense_4_acc_3: 0.0637 - dense_4_acc_4: 0.8970 - dense_4_acc_5: 0.1432 - dense_4_acc_6: 0.0117 - dense_4_acc_7: 0.9685 - dense_4_acc_8: 0.1445 - dense_4_acc_9: 0.06 - ETA: 15s - loss: 18.9919 - dense_4_loss: 2.7178 - dense_4_acc: 0.2793 - dense_4_acc_1: 0.5292 - dense_4_acc_2: 0.2574 - dense_4_acc_3: 0.0657 - dense_4_acc_4: 0.8987 - dense_4_acc_5: 0.1534 - dense_4_acc_6: 0.0121 - dense_4_acc_7: 0.9690 - dense_4_acc_8: 0.1479 - dense_4_acc_9: 0.07 - ETA: 14s - loss: 18.8950 - dense_4_loss: 2.7111 - dense_4_acc: 0.2847 - dense_4_acc_1: 0.5344 - dense_4_acc_2: 0.2600 - dense_4_acc_3: 0.0663 - dense_4_acc_4: 0.9003 - dense_4_acc_5: 0.1647 - dense_4_acc_6: 0.0126 - dense_4_acc_7: 0.9695 - dense_4_acc_8: 0.1508 - dense_4_acc_9: 0.07 - ETA: 14s - loss: 18.7971 - dense_4_loss: 2.7043 - dense_4_acc: 0.2908 - dense_4_acc_1: 0.5398 - dense_4_acc_2: 0.2627 - dense_4_acc_3: 0.0676 - dense_4_acc_4: 0.9019 - dense_4_acc_5: 0.1733 - dense_4_acc_6: 0.0137 - dense_4_acc_7: 0.9700 - dense_4_acc_8: 0.1527 - dense_4_acc_9: 0.07 - ETA: 13s - loss: 18.7006 - dense_4_loss: 2.6988 - dense_4_acc: 0.2950 - dense_4_acc_1: 0.5436 - dense_4_acc_2: 0.2656 - dense_4_acc_3: 0.0694 - dense_4_acc_4: 0.9034 - dense_4_acc_5: 0.1827 - dense_4_acc_6: 0.0144 - dense_4_acc_7: 0.9705 - dense_4_acc_8: 0.1553 - dense_4_acc_9: 0.07 - ETA: 13s - loss: 18.6075 - dense_4_loss: 2.6942 - dense_4_acc: 0.2997 - dense_4_acc_1: 0.5460 - dense_4_acc_2: 0.2663 - dense_4_acc_3: 0.0697 - dense_4_acc_4: 0.9049 - dense_4_acc_5: 0.1922 - dense_4_acc_6: 0.0155 - dense_4_acc_7: 0.9709 - dense_4_acc_8: 0.1582 - dense_4_acc_9: 0.07 - ETA: 12s - loss: 18.5113 - dense_4_loss: 2.6892 - dense_4_acc: 0.3050 - dense_4_acc_1: 0.5508 - dense_4_acc_2: 0.2676 - dense_4_acc_3: 0.0705 - dense_4_acc_4: 0.9064 - dense_4_acc_5: 0.2011 - dense_4_acc_6: 0.0165 - dense_4_acc_7: 0.9714 - dense_4_acc_8: 0.1615 - dense_4_acc_9: 0.07 - ETA: 12s - loss: 18.4149 - dense_4_loss: 2.6831 - dense_4_acc: 0.3106 - dense_4_acc_1: 0.5564 - dense_4_acc_2: 0.2684 - dense_4_acc_3: 0.0715 - dense_4_acc_4: 0.9078 - dense_4_acc_5: 0.2093 - dense_4_acc_6: 0.0176 - dense_4_acc_7: 0.9718 - dense_4_acc_8: 0.1660 - dense_4_acc_9: 0.07 - ETA: 11s - loss: 18.3185 - dense_4_loss: 2.6763 - dense_4_acc: 0.3162 - dense_4_acc_1: 0.5615 - dense_4_acc_2: 0.2697 - dense_4_acc_3: 0.0726 - dense_4_acc_4: 0.9091 - dense_4_acc_5: 0.2166 - dense_4_acc_6: 0.0181 - dense_4_acc_7: 0.9722 - dense_4_acc_8: 0.1694 - dense_4_acc_9: 0.07 - ETA: 11s - loss: 18.2206 - dense_4_loss: 2.6709 - dense_4_acc: 0.3209 - dense_4_acc_1: 0.5661 - dense_4_acc_2: 0.2720 - dense_4_acc_3: 0.0733 - dense_4_acc_4: 0.9104 - dense_4_acc_5: 0.2257 - dense_4_acc_6: 0.0188 - dense_4_acc_7: 0.9726 - dense_4_acc_8: 0.1714 - dense_4_acc_9: 0.08 - ETA: 10s - loss: 18.1249 - dense_4_loss: 2.6641 - dense_4_acc: 0.3260 - dense_4_acc_1: 0.5711 - dense_4_acc_2: 0.2741 - dense_4_acc_3: 0.0741 - dense_4_acc_4: 0.9117 - dense_4_acc_5: 0.2331 - dense_4_acc_6: 0.0209 - dense_4_acc_7: 0.9730 - dense_4_acc_8: 0.1743 - dense_4_acc_9: 0.08 - ETA: 10s - loss: 18.0319 - dense_4_loss: 2.6581 - dense_4_acc: 0.3318 - dense_4_acc_1: 0.5752 - dense_4_acc_2: 0.2772 - dense_4_acc_3: 0.0752 - dense_4_acc_4: 0.9130 - dense_4_acc_5: 0.2403 - dense_4_acc_6: 0.0237 - dense_4_acc_7: 0.9734 - dense_4_acc_8: 0.1773 - dense_4_acc_9: 0.08 - ETA: 10s - loss: 17.9405 - dense_4_loss: 2.6534 - dense_4_acc: 0.3392 - dense_4_acc_1: 0.5803 - dense_4_acc_2: 0.2789 - dense_4_acc_3: 0.0760 - dense_4_acc_4: 0.9142 - dense_4_acc_5: 0.2472 - dense_4_acc_6: 0.0261 - dense_4_acc_7: 0.9737 - dense_4_acc_8: 0.1800 - dense_4_acc_9: 0.08 - ETA: 9s - loss: 17.8504 - dense_4_loss: 2.6482 - dense_4_acc: 0.3455 - dense_4_acc_1: 0.5855 - dense_4_acc_2: 0.2814 - dense_4_acc_3: 0.0768 - dense_4_acc_4: 0.9153 - dense_4_acc_5: 0.2547 - dense_4_acc_6: 0.0286 - dense_4_acc_7: 0.9741 - dense_4_acc_8: 0.1842 - dense_4_acc_9: 0.0871 - ETA: 9s - loss: 17.7610 - dense_4_loss: 2.6435 - dense_4_acc: 0.3504 - dense_4_acc_1: 0.5892 - dense_4_acc_2: 0.2841 - dense_4_acc_3: 0.0780 - dense_4_acc_4: 0.9165 - dense_4_acc_5: 0.2624 - dense_4_acc_6: 0.0308 - dense_4_acc_7: 0.9745 - dense_4_acc_8: 0.1869 - dense_4_acc_9: 0.087 - ETA: 8s - loss: 17.6752 - dense_4_loss: 2.6396 - dense_4_acc: 0.3561 - dense_4_acc_1: 0.5925 - dense_4_acc_2: 0.2871 - dense_4_acc_3: 0.0796 - dense_4_acc_4: 0.9176 - dense_4_acc_5: 0.2688 - dense_4_acc_6: 0.0345 - dense_4_acc_7: 0.9748 - dense_4_acc_8: 0.1897 - dense_4_acc_9: 0.087 - ETA: 8s - loss: 17.5872 - dense_4_loss: 2.6345 - dense_4_acc: 0.3638 - dense_4_acc_1: 0.5967 - dense_4_acc_2: 0.2908 - dense_4_acc_3: 0.0811 - dense_4_acc_4: 0.9187 - dense_4_acc_5: 0.2751 - dense_4_acc_6: 0.0375 - dense_4_acc_7: 0.9751 - dense_4_acc_8: 0.1920 - dense_4_acc_9: 0.088 - ETA: 7s - loss: 17.4990 - dense_4_loss: 2.6294 - dense_4_acc: 0.3708 - dense_4_acc_1: 0.6012 - dense_4_acc_2: 0.2940 - dense_4_acc_3: 0.0826 - dense_4_acc_4: 0.9197 - dense_4_acc_5: 0.2812 - dense_4_acc_6: 0.0403 - dense_4_acc_7: 0.9755 - dense_4_acc_8: 0.1936 - dense_4_acc_9: 0.089 - ETA: 7s - loss: 17.4131 - dense_4_loss: 2.6246 - dense_4_acc: 0.3767 - dense_4_acc_1: 0.6053 - dense_4_acc_2: 0.2955 - dense_4_acc_3: 0.0853 - dense_4_acc_4: 0.9208 - dense_4_acc_5: 0.2871 - dense_4_acc_6: 0.0419 - dense_4_acc_7: 0.9758 - dense_4_acc_8: 0.1964 - dense_4_acc_9: 0.090 - ETA: 7s - loss: 17.3267 - dense_4_loss: 2.6199 - dense_4_acc: 0.3823 - dense_4_acc_1: 0.6095 - dense_4_acc_2: 0.2970 - dense_4_acc_3: 0.0870 - dense_4_acc_4: 0.9218 - dense_4_acc_5: 0.2933 - dense_4_acc_6: 0.0452 - dense_4_acc_7: 0.9761 - dense_4_acc_8: 0.1992 - dense_4_acc_9: 0.090 - ETA: 6s - loss: 17.2428 - dense_4_loss: 2.6150 - dense_4_acc: 0.3886 - dense_4_acc_1: 0.6137 - dense_4_acc_2: 0.2991 - dense_4_acc_3: 0.0874 - dense_4_acc_4: 0.9227 - dense_4_acc_5: 0.2995 - dense_4_acc_6: 0.0490 - dense_4_acc_7: 0.9764 - dense_4_acc_8: 0.2015 - dense_4_acc_9: 0.091 - ETA: 6s - loss: 17.1607 - dense_4_loss: 2.6110 - dense_4_acc: 0.3959 - dense_4_acc_1: 0.6185 - dense_4_acc_2: 0.3025 - dense_4_acc_3: 0.0888 - dense_4_acc_4: 0.9237 - dense_4_acc_5: 0.3058 - dense_4_acc_6: 0.0520 - dense_4_acc_7: 0.9767 - dense_4_acc_8: 0.2042 - dense_4_acc_9: 0.092 - ETA: 6s - loss: 17.0814 - dense_4_loss: 2.6062 - dense_4_acc: 0.4024 - dense_4_acc_1: 0.6220 - dense_4_acc_2: 0.3046 - dense_4_acc_3: 0.0905 - dense_4_acc_4: 0.9246 - dense_4_acc_5: 0.3116 - dense_4_acc_6: 0.0543 - dense_4_acc_7: 0.9770 - dense_4_acc_8: 0.2067 - dense_4_acc_9: 0.093 - ETA: 5s - loss: 16.9989 - dense_4_loss: 2.6019 - dense_4_acc: 0.4080 - dense_4_acc_1: 0.6254 - dense_4_acc_2: 0.3076 - dense_4_acc_3: 0.0917 - dense_4_acc_4: 0.9255 - dense_4_acc_5: 0.3177 - dense_4_acc_6: 0.0573 - dense_4_acc_7: 0.9772 - dense_4_acc_8: 0.2089 - dense_4_acc_9: 0.094 - ETA: 5s - loss: 16.9244 - dense_4_loss: 2.5975 - dense_4_acc: 0.4125 - dense_4_acc_1: 0.6290 - dense_4_acc_2: 0.3110 - dense_4_acc_3: 0.0914 - dense_4_acc_4: 0.9264 - dense_4_acc_5: 0.3238 - dense_4_acc_6: 0.0588 - dense_4_acc_7: 0.9775 - dense_4_acc_8: 0.2119 - dense_4_acc_9: 0.095 - ETA: 4s - loss: 16.8465 - dense_4_loss: 2.5925 - dense_4_acc: 0.4172 - dense_4_acc_1: 0.6329 - dense_4_acc_2: 0.3139 - dense_4_acc_3: 0.0927 - dense_4_acc_4: 0.9273 - dense_4_acc_5: 0.3287 - dense_4_acc_6: 0.0612 - dense_4_acc_7: 0.9778 - dense_4_acc_8: 0.2142 - dense_4_acc_9: 0.096 - ETA: 4s - loss: 16.7709 - dense_4_loss: 2.5887 - dense_4_acc: 0.4235 - dense_4_acc_1: 0.6364 - dense_4_acc_2: 0.3159 - dense_4_acc_3: 0.0941 - dense_4_acc_4: 0.9281 - dense_4_acc_5: 0.3338 - dense_4_acc_6: 0.0644 - dense_4_acc_7: 0.9780 - dense_4_acc_8: 0.2162 - dense_4_acc_9: 0.0970"
     ]
    },
    {
     "name": "stdout",
     "output_type": "stream",
     "text": [
      "10000/10000 [==============================] - ETA: 4s - loss: 16.6975 - dense_4_loss: 2.5851 - dense_4_acc: 0.4293 - dense_4_acc_1: 0.6399 - dense_4_acc_2: 0.3192 - dense_4_acc_3: 0.0952 - dense_4_acc_4: 0.9290 - dense_4_acc_5: 0.3387 - dense_4_acc_6: 0.0671 - dense_4_acc_7: 0.9783 - dense_4_acc_8: 0.2177 - dense_4_acc_9: 0.097 - ETA: 3s - loss: 16.6288 - dense_4_loss: 2.5820 - dense_4_acc: 0.4348 - dense_4_acc_1: 0.6432 - dense_4_acc_2: 0.3215 - dense_4_acc_3: 0.0950 - dense_4_acc_4: 0.9298 - dense_4_acc_5: 0.3440 - dense_4_acc_6: 0.0691 - dense_4_acc_7: 0.9785 - dense_4_acc_8: 0.2199 - dense_4_acc_9: 0.097 - ETA: 3s - loss: 16.5575 - dense_4_loss: 2.5772 - dense_4_acc: 0.4399 - dense_4_acc_1: 0.6465 - dense_4_acc_2: 0.3227 - dense_4_acc_3: 0.0955 - dense_4_acc_4: 0.9306 - dense_4_acc_5: 0.3490 - dense_4_acc_6: 0.0715 - dense_4_acc_7: 0.9788 - dense_4_acc_8: 0.2213 - dense_4_acc_9: 0.099 - ETA: 3s - loss: 16.4876 - dense_4_loss: 2.5735 - dense_4_acc: 0.4442 - dense_4_acc_1: 0.6494 - dense_4_acc_2: 0.3249 - dense_4_acc_3: 0.0967 - dense_4_acc_4: 0.9313 - dense_4_acc_5: 0.3543 - dense_4_acc_6: 0.0734 - dense_4_acc_7: 0.9790 - dense_4_acc_8: 0.2228 - dense_4_acc_9: 0.101 - ETA: 2s - loss: 16.4155 - dense_4_loss: 2.5695 - dense_4_acc: 0.4495 - dense_4_acc_1: 0.6529 - dense_4_acc_2: 0.3287 - dense_4_acc_3: 0.0977 - dense_4_acc_4: 0.9321 - dense_4_acc_5: 0.3596 - dense_4_acc_6: 0.0752 - dense_4_acc_7: 0.9792 - dense_4_acc_8: 0.2254 - dense_4_acc_9: 0.102 - ETA: 2s - loss: 16.3480 - dense_4_loss: 2.5660 - dense_4_acc: 0.4546 - dense_4_acc_1: 0.6560 - dense_4_acc_2: 0.3315 - dense_4_acc_3: 0.0983 - dense_4_acc_4: 0.9328 - dense_4_acc_5: 0.3646 - dense_4_acc_6: 0.0776 - dense_4_acc_7: 0.9795 - dense_4_acc_8: 0.2265 - dense_4_acc_9: 0.103 - ETA: 2s - loss: 16.2826 - dense_4_loss: 2.5626 - dense_4_acc: 0.4592 - dense_4_acc_1: 0.6587 - dense_4_acc_2: 0.3339 - dense_4_acc_3: 0.0996 - dense_4_acc_4: 0.9335 - dense_4_acc_5: 0.3695 - dense_4_acc_6: 0.0791 - dense_4_acc_7: 0.9797 - dense_4_acc_8: 0.2278 - dense_4_acc_9: 0.103 - ETA: 1s - loss: 16.2155 - dense_4_loss: 2.5594 - dense_4_acc: 0.4640 - dense_4_acc_1: 0.6618 - dense_4_acc_2: 0.3361 - dense_4_acc_3: 0.1011 - dense_4_acc_4: 0.9343 - dense_4_acc_5: 0.3743 - dense_4_acc_6: 0.0816 - dense_4_acc_7: 0.9799 - dense_4_acc_8: 0.2290 - dense_4_acc_9: 0.104 - ETA: 1s - loss: 16.1483 - dense_4_loss: 2.5559 - dense_4_acc: 0.4693 - dense_4_acc_1: 0.6649 - dense_4_acc_2: 0.3394 - dense_4_acc_3: 0.1018 - dense_4_acc_4: 0.9349 - dense_4_acc_5: 0.3784 - dense_4_acc_6: 0.0840 - dense_4_acc_7: 0.9801 - dense_4_acc_8: 0.2306 - dense_4_acc_9: 0.105 - ETA: 1s - loss: 16.0835 - dense_4_loss: 2.5523 - dense_4_acc: 0.4741 - dense_4_acc_1: 0.6679 - dense_4_acc_2: 0.3421 - dense_4_acc_3: 0.1021 - dense_4_acc_4: 0.9356 - dense_4_acc_5: 0.3834 - dense_4_acc_6: 0.0866 - dense_4_acc_7: 0.9803 - dense_4_acc_8: 0.2322 - dense_4_acc_9: 0.105 - ETA: 0s - loss: 16.0188 - dense_4_loss: 2.5486 - dense_4_acc: 0.4790 - dense_4_acc_1: 0.6710 - dense_4_acc_2: 0.3445 - dense_4_acc_3: 0.1025 - dense_4_acc_4: 0.9363 - dense_4_acc_5: 0.3885 - dense_4_acc_6: 0.0893 - dense_4_acc_7: 0.9805 - dense_4_acc_8: 0.2341 - dense_4_acc_9: 0.106 - ETA: 0s - loss: 15.9564 - dense_4_loss: 2.5448 - dense_4_acc: 0.4840 - dense_4_acc_1: 0.6739 - dense_4_acc_2: 0.3476 - dense_4_acc_3: 0.1030 - dense_4_acc_4: 0.9369 - dense_4_acc_5: 0.3920 - dense_4_acc_6: 0.0912 - dense_4_acc_7: 0.9807 - dense_4_acc_8: 0.2360 - dense_4_acc_9: 0.107 - ETA: 0s - loss: 15.8970 - dense_4_loss: 2.5412 - dense_4_acc: 0.4884 - dense_4_acc_1: 0.6763 - dense_4_acc_2: 0.3499 - dense_4_acc_3: 0.1038 - dense_4_acc_4: 0.9376 - dense_4_acc_5: 0.3966 - dense_4_acc_6: 0.0923 - dense_4_acc_7: 0.9809 - dense_4_acc_8: 0.2381 - dense_4_acc_9: 0.108 - 31s 3ms/step - loss: 15.8339 - dense_4_loss: 2.5378 - dense_4_acc: 0.4928 - dense_4_acc_1: 0.6791 - dense_4_acc_2: 0.3532 - dense_4_acc_3: 0.1048 - dense_4_acc_4: 0.9382 - dense_4_acc_5: 0.4009 - dense_4_acc_6: 0.0942 - dense_4_acc_7: 0.9811 - dense_4_acc_8: 0.2396 - dense_4_acc_9: 0.1096\n"
     ]
    },
    {
     "data": {
      "text/plain": [
       "<keras.callbacks.History at 0x20d9ae10>"
      ]
     },
     "execution_count": 56,
     "metadata": {},
     "output_type": "execute_result"
    }
   ],
   "source": [
    "model.fit([Xoh, s0, c0], outputs, epochs=1, batch_size=100)"
   ]
  },
  {
   "cell_type": "markdown",
   "metadata": {},
   "source": [
    "While training you can see the loss as well as the accuracy on each of the 10 positions of the output. The table below gives you an example of what the accuracies could be if the batch had 2 examples: \n",
    "\n",
    "<img src=\"images/table.png\" style=\"width:700;height:200px;\"> <br>\n",
    "<caption><center>Thus, `dense_2_acc_8: 0.89` means that you are predicting the 7th character of the output correctly 89% of the time in the current batch of data. </center></caption>\n",
    "\n",
    "\n",
    "We have run this model for longer, and saved the weights. Run the next cell to load our weights. (By training a model for several minutes, you should be able to obtain a model of similar accuracy, but loading our model will save you time.) "
   ]
  },
  {
   "cell_type": "code",
   "execution_count": 66,
   "metadata": {},
   "outputs": [],
   "source": [
    "model.load_weights('models/model.h5')"
   ]
  },
  {
   "cell_type": "markdown",
   "metadata": {},
   "source": [
    "You can now see the results on new examples."
   ]
  },
  {
   "cell_type": "code",
   "execution_count": 67,
   "metadata": {},
   "outputs": [
    {
     "name": "stdout",
     "output_type": "stream",
     "text": [
      "(37, 30)\n"
     ]
    }
   ],
   "source": [
    "example='3 May 1979'\n",
    "source = string_to_int(example, Tx, human_vocab)\n",
    "source = np.array(list(map(lambda x: to_categorical(x, num_classes=len(human_vocab)), source))).swapaxes(0,1)\n",
    "print(source.shape)"
   ]
  },
  {
   "cell_type": "code",
   "execution_count": 77,
   "metadata": {},
   "outputs": [
    {
     "name": "stdout",
     "output_type": "stream",
     "text": [
      "source: 3 May 1979\n",
      "output: 1979-05-03\n",
      "source: 5 April 09\n",
      "output: 2009-05-05\n",
      "source: 21th of August 2016\n",
      "output: 2016-08-21\n",
      "source: Tue 10 Jul 2007\n",
      "output: 2007-07-10\n",
      "source: Saturday May 9 2018\n",
      "output: 2018-05-09\n",
      "source: March 3 2001\n",
      "output: 2001-03-03\n",
      "source: March 3rd 2001\n",
      "output: 2001-03-03\n",
      "source: 1 March 2001\n",
      "output: 2001-03-01\n"
     ]
    }
   ],
   "source": [
    "EXAMPLES = ['3 May 1979', '5 April 09', '21th of August 2016', 'Tue 10 Jul 2007', 'Saturday May 9 2018', 'March 3 2001', 'March 3rd 2001', '1 March 2001']\n",
    "for example in EXAMPLES:\n",
    "    \n",
    "    source = string_to_int(example, Tx, human_vocab)\n",
    "    source = np.array(list(map(lambda x: to_categorical(x, num_classes=len(human_vocab)), source)))\n",
    "    prediction = model.predict([source.reshape(1,30,-1), s0, c0])\n",
    "    prediction = np.argmax(prediction, axis = -1)\n",
    "    output = [inv_machine_vocab[int(i)] for i in prediction]\n",
    "    \n",
    "    print(\"source:\", example)\n",
    "    print(\"output:\", ''.join(output))"
   ]
  },
  {
   "cell_type": "markdown",
   "metadata": {},
   "source": [
    "You can also change these examples to test with your own examples. The next part will give you a better sense on what the attention mechanism is doing--i.e., what part of the input the network is paying attention to when generating a particular output character. "
   ]
  },
  {
   "cell_type": "markdown",
   "metadata": {},
   "source": [
    "## 3 - Visualizing Attention (Optional / Ungraded)\n",
    "\n",
    "Since the problem has a fixed output length of 10, it is also possible to carry out this task using 10 different softmax units to generate the 10 characters of the output. But one advantage of the attention model is that each part of the output (say the month) knows it needs to depend only on a small part of the input (the characters in the input giving the month). We can  visualize what part of the output is looking at what part of the input.\n",
    "\n",
    "Consider the task of translating \"Saturday 9 May 2018\" to \"2018-05-09\". If we visualize the computed $\\alpha^{\\langle t, t' \\rangle}$ we get this: \n",
    "\n",
    "<img src=\"images/date_attention.png\" style=\"width:600;height:300px;\"> <br>\n",
    "<caption><center> **Figure 8**: Full Attention Map</center></caption>\n",
    "\n",
    "Notice how the output ignores the \"Saturday\" portion of the input. None of the output timesteps are paying much attention to that portion of the input. We see also that 9 has been translated as 09 and May has been correctly translated into 05, with the output paying attention to the parts of the input it needs to to make the translation. The year mostly requires it to pay attention to the input's \"18\" in order to generate \"2018.\" \n",
    "\n"
   ]
  },
  {
   "cell_type": "markdown",
   "metadata": {},
   "source": [
    "### 3.1 - Getting the activations from the network\n",
    "\n",
    "Lets now visualize the attention values in your network. We'll propagate an example through the network, then visualize the values of $\\alpha^{\\langle t, t' \\rangle}$. \n",
    "\n",
    "To figure out where the attention values are located, let's start by printing a summary of the model ."
   ]
  },
  {
   "cell_type": "code",
   "execution_count": 79,
   "metadata": {},
   "outputs": [
    {
     "name": "stdout",
     "output_type": "stream",
     "text": [
      "__________________________________________________________________________________________________\n",
      "Layer (type)                    Output Shape         Param #     Connected to                     \n",
      "==================================================================================================\n",
      "input_8 (InputLayer)            (None, 30, 37)       0                                            \n",
      "__________________________________________________________________________________________________\n",
      "s0 (InputLayer)                 (None, 64)           0                                            \n",
      "__________________________________________________________________________________________________\n",
      "bidirectional_6 (Bidirectional) (None, 30, 64)       17920       input_8[0][0]                    \n",
      "__________________________________________________________________________________________________\n",
      "repeat_vector_1 (RepeatVector)  (None, 30, 64)       0           s0[0][0]                         \n",
      "                                                                 lstm_4[0][0]                     \n",
      "                                                                 lstm_4[1][0]                     \n",
      "                                                                 lstm_4[2][0]                     \n",
      "                                                                 lstm_4[3][0]                     \n",
      "                                                                 lstm_4[4][0]                     \n",
      "                                                                 lstm_4[5][0]                     \n",
      "                                                                 lstm_4[6][0]                     \n",
      "                                                                 lstm_4[7][0]                     \n",
      "                                                                 lstm_4[8][0]                     \n",
      "__________________________________________________________________________________________________\n",
      "concatenate_1 (Concatenate)     (None, 30, 128)      0           bidirectional_6[0][0]            \n",
      "                                                                 repeat_vector_1[4][0]            \n",
      "                                                                 bidirectional_6[0][0]            \n",
      "                                                                 repeat_vector_1[5][0]            \n",
      "                                                                 bidirectional_6[0][0]            \n",
      "                                                                 repeat_vector_1[6][0]            \n",
      "                                                                 bidirectional_6[0][0]            \n",
      "                                                                 repeat_vector_1[7][0]            \n",
      "                                                                 bidirectional_6[0][0]            \n",
      "                                                                 repeat_vector_1[8][0]            \n",
      "                                                                 bidirectional_6[0][0]            \n",
      "                                                                 repeat_vector_1[9][0]            \n",
      "                                                                 bidirectional_6[0][0]            \n",
      "                                                                 repeat_vector_1[10][0]           \n",
      "                                                                 bidirectional_6[0][0]            \n",
      "                                                                 repeat_vector_1[11][0]           \n",
      "                                                                 bidirectional_6[0][0]            \n",
      "                                                                 repeat_vector_1[12][0]           \n",
      "                                                                 bidirectional_6[0][0]            \n",
      "                                                                 repeat_vector_1[13][0]           \n",
      "__________________________________________________________________________________________________\n",
      "dense_1 (Dense)                 (None, 30, 10)       1290        concatenate_1[2][0]              \n",
      "                                                                 concatenate_1[3][0]              \n",
      "                                                                 concatenate_1[4][0]              \n",
      "                                                                 concatenate_1[5][0]              \n",
      "                                                                 concatenate_1[6][0]              \n",
      "                                                                 concatenate_1[7][0]              \n",
      "                                                                 concatenate_1[8][0]              \n",
      "                                                                 concatenate_1[9][0]              \n",
      "                                                                 concatenate_1[10][0]             \n",
      "                                                                 concatenate_1[11][0]             \n",
      "__________________________________________________________________________________________________\n",
      "dense_2 (Dense)                 (None, 30, 1)        11          dense_1[2][0]                    \n",
      "                                                                 dense_1[3][0]                    \n",
      "                                                                 dense_1[4][0]                    \n",
      "                                                                 dense_1[5][0]                    \n",
      "                                                                 dense_1[6][0]                    \n",
      "                                                                 dense_1[7][0]                    \n",
      "                                                                 dense_1[8][0]                    \n",
      "                                                                 dense_1[9][0]                    \n",
      "                                                                 dense_1[10][0]                   \n",
      "                                                                 dense_1[11][0]                   \n",
      "__________________________________________________________________________________________________\n",
      "attention_weights (Activation)  (None, 30, 1)        0           dense_2[2][0]                    \n",
      "                                                                 dense_2[3][0]                    \n",
      "                                                                 dense_2[4][0]                    \n",
      "                                                                 dense_2[5][0]                    \n",
      "                                                                 dense_2[6][0]                    \n",
      "                                                                 dense_2[7][0]                    \n",
      "                                                                 dense_2[8][0]                    \n",
      "                                                                 dense_2[9][0]                    \n",
      "                                                                 dense_2[10][0]                   \n",
      "                                                                 dense_2[11][0]                   \n",
      "__________________________________________________________________________________________________\n",
      "dot_1 (Dot)                     (None, 1, 64)        0           attention_weights[2][0]          \n",
      "                                                                 bidirectional_6[0][0]            \n",
      "                                                                 attention_weights[3][0]          \n",
      "                                                                 bidirectional_6[0][0]            \n",
      "                                                                 attention_weights[4][0]          \n",
      "                                                                 bidirectional_6[0][0]            \n",
      "                                                                 attention_weights[5][0]          \n",
      "                                                                 bidirectional_6[0][0]            \n"
     ]
    },
    {
     "name": "stdout",
     "output_type": "stream",
     "text": [
      "                                                                 attention_weights[6][0]          \n",
      "                                                                 bidirectional_6[0][0]            \n",
      "                                                                 attention_weights[7][0]          \n",
      "                                                                 bidirectional_6[0][0]            \n",
      "                                                                 attention_weights[8][0]          \n",
      "                                                                 bidirectional_6[0][0]            \n",
      "                                                                 attention_weights[9][0]          \n",
      "                                                                 bidirectional_6[0][0]            \n",
      "                                                                 attention_weights[10][0]         \n",
      "                                                                 bidirectional_6[0][0]            \n",
      "                                                                 attention_weights[11][0]         \n",
      "                                                                 bidirectional_6[0][0]            \n",
      "__________________________________________________________________________________________________\n",
      "c0 (InputLayer)                 (None, 64)           0                                            \n",
      "__________________________________________________________________________________________________\n",
      "lstm_4 (LSTM)                   [(None, 64), (None,  33024       dot_1[0][0]                      \n",
      "                                                                 s0[0][0]                         \n",
      "                                                                 c0[0][0]                         \n",
      "                                                                 dot_1[1][0]                      \n",
      "                                                                 lstm_4[0][0]                     \n",
      "                                                                 lstm_4[0][2]                     \n",
      "                                                                 dot_1[2][0]                      \n",
      "                                                                 lstm_4[1][0]                     \n",
      "                                                                 lstm_4[1][2]                     \n",
      "                                                                 dot_1[3][0]                      \n",
      "                                                                 lstm_4[2][0]                     \n",
      "                                                                 lstm_4[2][2]                     \n",
      "                                                                 dot_1[4][0]                      \n",
      "                                                                 lstm_4[3][0]                     \n",
      "                                                                 lstm_4[3][2]                     \n",
      "                                                                 dot_1[5][0]                      \n",
      "                                                                 lstm_4[4][0]                     \n",
      "                                                                 lstm_4[4][2]                     \n",
      "                                                                 dot_1[6][0]                      \n",
      "                                                                 lstm_4[5][0]                     \n",
      "                                                                 lstm_4[5][2]                     \n",
      "                                                                 dot_1[7][0]                      \n",
      "                                                                 lstm_4[6][0]                     \n",
      "                                                                 lstm_4[6][2]                     \n",
      "                                                                 dot_1[8][0]                      \n",
      "                                                                 lstm_4[7][0]                     \n",
      "                                                                 lstm_4[7][2]                     \n",
      "                                                                 dot_1[9][0]                      \n",
      "                                                                 lstm_4[8][0]                     \n",
      "                                                                 lstm_4[8][2]                     \n",
      "__________________________________________________________________________________________________\n",
      "dense_4 (Dense)                 (None, 11)           715         lstm_4[0][0]                     \n",
      "                                                                 lstm_4[1][0]                     \n",
      "                                                                 lstm_4[2][0]                     \n",
      "                                                                 lstm_4[3][0]                     \n",
      "                                                                 lstm_4[4][0]                     \n",
      "                                                                 lstm_4[5][0]                     \n",
      "                                                                 lstm_4[6][0]                     \n",
      "                                                                 lstm_4[7][0]                     \n",
      "                                                                 lstm_4[8][0]                     \n",
      "                                                                 lstm_4[9][0]                     \n",
      "==================================================================================================\n",
      "Total params: 52,960\n",
      "Trainable params: 52,960\n",
      "Non-trainable params: 0\n",
      "__________________________________________________________________________________________________\n"
     ]
    }
   ],
   "source": [
    "model.summary()\n",
    "plt.show()"
   ]
  },
  {
   "cell_type": "markdown",
   "metadata": {},
   "source": [
    "Navigate through the output of `model.summary()` above. You can see that the layer named `attention_weights` outputs the `alphas` of shape (m, 30, 1) before `dot_2` computes the context vector for every time step $t = 0, \\ldots, T_y-1$. Lets get the activations from this layer.\n",
    "\n",
    "The function `attention_map()` pulls out the attention values from your model and plots them."
   ]
  },
  {
   "cell_type": "code",
   "execution_count": 80,
   "metadata": {
    "scrolled": false
   },
   "outputs": [
    {
     "ename": "InvalidArgumentError",
     "evalue": "You must feed a value for placeholder tensor 'input_6' with dtype float and shape [?,30,37]\n\t [[{{node input_6}} = Placeholder[dtype=DT_FLOAT, shape=[?,30,37], _device=\"/job:localhost/replica:0/task:0/device:CPU:0\"]()]]",
     "output_type": "error",
     "traceback": [
      "\u001b[1;31m---------------------------------------------------------------------------\u001b[0m",
      "\u001b[1;31mInvalidArgumentError\u001b[0m                      Traceback (most recent call last)",
      "\u001b[1;32m<ipython-input-80-5eda3607d2b0>\u001b[0m in \u001b[0;36m<module>\u001b[1;34m()\u001b[0m\n\u001b[1;32m----> 1\u001b[1;33m \u001b[0mattention_map\u001b[0m \u001b[1;33m=\u001b[0m \u001b[0mplot_attention_map\u001b[0m\u001b[1;33m(\u001b[0m\u001b[0mmodel\u001b[0m\u001b[1;33m,\u001b[0m \u001b[0mhuman_vocab\u001b[0m\u001b[1;33m,\u001b[0m \u001b[0minv_machine_vocab\u001b[0m\u001b[1;33m,\u001b[0m \u001b[1;34m\"Tuesday 09 Oct 1993\"\u001b[0m\u001b[1;33m,\u001b[0m \u001b[0mnum\u001b[0m \u001b[1;33m=\u001b[0m \u001b[1;36m7\u001b[0m\u001b[1;33m,\u001b[0m \u001b[0mn_s\u001b[0m \u001b[1;33m=\u001b[0m \u001b[1;36m64\u001b[0m\u001b[1;33m)\u001b[0m\u001b[1;33m\u001b[0m\u001b[0m\n\u001b[0m",
      "\u001b[1;32mD:\\workspace-wangfeicheng\\Deep-learning\\Deeplearning.ai\\05_Sequence model\\05_Assignment\\nmt_utils.py\u001b[0m in \u001b[0;36mplot_attention_map\u001b[1;34m(model, input_vocabulary, inv_output_vocabulary, text, n_s, num, Tx, Ty)\u001b[0m\n\u001b[0;32m    197\u001b[0m \u001b[1;33m\u001b[0m\u001b[0m\n\u001b[0;32m    198\u001b[0m     \u001b[0mf\u001b[0m \u001b[1;33m=\u001b[0m \u001b[0mK\u001b[0m\u001b[1;33m.\u001b[0m\u001b[0mfunction\u001b[0m\u001b[1;33m(\u001b[0m\u001b[0mmodel\u001b[0m\u001b[1;33m.\u001b[0m\u001b[0minputs\u001b[0m\u001b[1;33m,\u001b[0m \u001b[1;33m[\u001b[0m\u001b[0mlayer\u001b[0m\u001b[1;33m.\u001b[0m\u001b[0mget_output_at\u001b[0m\u001b[1;33m(\u001b[0m\u001b[0mt\u001b[0m\u001b[1;33m)\u001b[0m \u001b[1;32mfor\u001b[0m \u001b[0mt\u001b[0m \u001b[1;32min\u001b[0m \u001b[0mrange\u001b[0m\u001b[1;33m(\u001b[0m\u001b[0mTy\u001b[0m\u001b[1;33m)\u001b[0m\u001b[1;33m]\u001b[0m\u001b[1;33m)\u001b[0m\u001b[1;33m\u001b[0m\u001b[0m\n\u001b[1;32m--> 199\u001b[1;33m     \u001b[0mr\u001b[0m \u001b[1;33m=\u001b[0m \u001b[0mf\u001b[0m\u001b[1;33m(\u001b[0m\u001b[1;33m[\u001b[0m\u001b[0mencoded\u001b[0m\u001b[1;33m,\u001b[0m \u001b[0ms0\u001b[0m\u001b[1;33m,\u001b[0m \u001b[0mc0\u001b[0m\u001b[1;33m]\u001b[0m\u001b[1;33m)\u001b[0m\u001b[1;33m\u001b[0m\u001b[0m\n\u001b[0m\u001b[0;32m    200\u001b[0m \u001b[1;33m\u001b[0m\u001b[0m\n\u001b[0;32m    201\u001b[0m     \u001b[1;32mfor\u001b[0m \u001b[0mt\u001b[0m \u001b[1;32min\u001b[0m \u001b[0mrange\u001b[0m\u001b[1;33m(\u001b[0m\u001b[0mTy\u001b[0m\u001b[1;33m)\u001b[0m\u001b[1;33m:\u001b[0m\u001b[1;33m\u001b[0m\u001b[0m\n",
      "\u001b[1;32mC:\\ProgramData\\Anaconda3\\lib\\site-packages\\keras\\backend\\tensorflow_backend.py\u001b[0m in \u001b[0;36m__call__\u001b[1;34m(self, inputs)\u001b[0m\n\u001b[0;32m   2713\u001b[0m                 \u001b[1;32mreturn\u001b[0m \u001b[0mself\u001b[0m\u001b[1;33m.\u001b[0m\u001b[0m_legacy_call\u001b[0m\u001b[1;33m(\u001b[0m\u001b[0minputs\u001b[0m\u001b[1;33m)\u001b[0m\u001b[1;33m\u001b[0m\u001b[0m\n\u001b[0;32m   2714\u001b[0m \u001b[1;33m\u001b[0m\u001b[0m\n\u001b[1;32m-> 2715\u001b[1;33m             \u001b[1;32mreturn\u001b[0m \u001b[0mself\u001b[0m\u001b[1;33m.\u001b[0m\u001b[0m_call\u001b[0m\u001b[1;33m(\u001b[0m\u001b[0minputs\u001b[0m\u001b[1;33m)\u001b[0m\u001b[1;33m\u001b[0m\u001b[0m\n\u001b[0m\u001b[0;32m   2716\u001b[0m         \u001b[1;32melse\u001b[0m\u001b[1;33m:\u001b[0m\u001b[1;33m\u001b[0m\u001b[0m\n\u001b[0;32m   2717\u001b[0m             \u001b[1;32mif\u001b[0m \u001b[0mpy_any\u001b[0m\u001b[1;33m(\u001b[0m\u001b[0mis_tensor\u001b[0m\u001b[1;33m(\u001b[0m\u001b[0mx\u001b[0m\u001b[1;33m)\u001b[0m \u001b[1;32mfor\u001b[0m \u001b[0mx\u001b[0m \u001b[1;32min\u001b[0m \u001b[0minputs\u001b[0m\u001b[1;33m)\u001b[0m\u001b[1;33m:\u001b[0m\u001b[1;33m\u001b[0m\u001b[0m\n",
      "\u001b[1;32mC:\\ProgramData\\Anaconda3\\lib\\site-packages\\keras\\backend\\tensorflow_backend.py\u001b[0m in \u001b[0;36m_call\u001b[1;34m(self, inputs)\u001b[0m\n\u001b[0;32m   2673\u001b[0m             \u001b[0mfetched\u001b[0m \u001b[1;33m=\u001b[0m \u001b[0mself\u001b[0m\u001b[1;33m.\u001b[0m\u001b[0m_callable_fn\u001b[0m\u001b[1;33m(\u001b[0m\u001b[1;33m*\u001b[0m\u001b[0marray_vals\u001b[0m\u001b[1;33m,\u001b[0m \u001b[0mrun_metadata\u001b[0m\u001b[1;33m=\u001b[0m\u001b[0mself\u001b[0m\u001b[1;33m.\u001b[0m\u001b[0mrun_metadata\u001b[0m\u001b[1;33m)\u001b[0m\u001b[1;33m\u001b[0m\u001b[0m\n\u001b[0;32m   2674\u001b[0m         \u001b[1;32melse\u001b[0m\u001b[1;33m:\u001b[0m\u001b[1;33m\u001b[0m\u001b[0m\n\u001b[1;32m-> 2675\u001b[1;33m             \u001b[0mfetched\u001b[0m \u001b[1;33m=\u001b[0m \u001b[0mself\u001b[0m\u001b[1;33m.\u001b[0m\u001b[0m_callable_fn\u001b[0m\u001b[1;33m(\u001b[0m\u001b[1;33m*\u001b[0m\u001b[0marray_vals\u001b[0m\u001b[1;33m)\u001b[0m\u001b[1;33m\u001b[0m\u001b[0m\n\u001b[0m\u001b[0;32m   2676\u001b[0m         \u001b[1;32mreturn\u001b[0m \u001b[0mfetched\u001b[0m\u001b[1;33m[\u001b[0m\u001b[1;33m:\u001b[0m\u001b[0mlen\u001b[0m\u001b[1;33m(\u001b[0m\u001b[0mself\u001b[0m\u001b[1;33m.\u001b[0m\u001b[0moutputs\u001b[0m\u001b[1;33m)\u001b[0m\u001b[1;33m]\u001b[0m\u001b[1;33m\u001b[0m\u001b[0m\n\u001b[0;32m   2677\u001b[0m \u001b[1;33m\u001b[0m\u001b[0m\n",
      "\u001b[1;32mC:\\ProgramData\\Anaconda3\\lib\\site-packages\\tensorflow\\python\\client\\session.py\u001b[0m in \u001b[0;36m__call__\u001b[1;34m(self, *args, **kwargs)\u001b[0m\n\u001b[0;32m   1437\u001b[0m           ret = tf_session.TF_SessionRunCallable(\n\u001b[0;32m   1438\u001b[0m               \u001b[0mself\u001b[0m\u001b[1;33m.\u001b[0m\u001b[0m_session\u001b[0m\u001b[1;33m.\u001b[0m\u001b[0m_session\u001b[0m\u001b[1;33m,\u001b[0m \u001b[0mself\u001b[0m\u001b[1;33m.\u001b[0m\u001b[0m_handle\u001b[0m\u001b[1;33m,\u001b[0m \u001b[0margs\u001b[0m\u001b[1;33m,\u001b[0m \u001b[0mstatus\u001b[0m\u001b[1;33m,\u001b[0m\u001b[1;33m\u001b[0m\u001b[0m\n\u001b[1;32m-> 1439\u001b[1;33m               run_metadata_ptr)\n\u001b[0m\u001b[0;32m   1440\u001b[0m         \u001b[1;32mif\u001b[0m \u001b[0mrun_metadata\u001b[0m\u001b[1;33m:\u001b[0m\u001b[1;33m\u001b[0m\u001b[0m\n\u001b[0;32m   1441\u001b[0m           \u001b[0mproto_data\u001b[0m \u001b[1;33m=\u001b[0m \u001b[0mtf_session\u001b[0m\u001b[1;33m.\u001b[0m\u001b[0mTF_GetBuffer\u001b[0m\u001b[1;33m(\u001b[0m\u001b[0mrun_metadata_ptr\u001b[0m\u001b[1;33m)\u001b[0m\u001b[1;33m\u001b[0m\u001b[0m\n",
      "\u001b[1;32mC:\\ProgramData\\Anaconda3\\lib\\site-packages\\tensorflow\\python\\framework\\errors_impl.py\u001b[0m in \u001b[0;36m__exit__\u001b[1;34m(self, type_arg, value_arg, traceback_arg)\u001b[0m\n\u001b[0;32m    526\u001b[0m             \u001b[1;32mNone\u001b[0m\u001b[1;33m,\u001b[0m \u001b[1;32mNone\u001b[0m\u001b[1;33m,\u001b[0m\u001b[1;33m\u001b[0m\u001b[0m\n\u001b[0;32m    527\u001b[0m             \u001b[0mcompat\u001b[0m\u001b[1;33m.\u001b[0m\u001b[0mas_text\u001b[0m\u001b[1;33m(\u001b[0m\u001b[0mc_api\u001b[0m\u001b[1;33m.\u001b[0m\u001b[0mTF_Message\u001b[0m\u001b[1;33m(\u001b[0m\u001b[0mself\u001b[0m\u001b[1;33m.\u001b[0m\u001b[0mstatus\u001b[0m\u001b[1;33m.\u001b[0m\u001b[0mstatus\u001b[0m\u001b[1;33m)\u001b[0m\u001b[1;33m)\u001b[0m\u001b[1;33m,\u001b[0m\u001b[1;33m\u001b[0m\u001b[0m\n\u001b[1;32m--> 528\u001b[1;33m             c_api.TF_GetCode(self.status.status))\n\u001b[0m\u001b[0;32m    529\u001b[0m     \u001b[1;31m# Delete the underlying status object from memory otherwise it stays alive\u001b[0m\u001b[1;33m\u001b[0m\u001b[1;33m\u001b[0m\u001b[0m\n\u001b[0;32m    530\u001b[0m     \u001b[1;31m# as there is a reference to status from this from the traceback due to\u001b[0m\u001b[1;33m\u001b[0m\u001b[1;33m\u001b[0m\u001b[0m\n",
      "\u001b[1;31mInvalidArgumentError\u001b[0m: You must feed a value for placeholder tensor 'input_6' with dtype float and shape [?,30,37]\n\t [[{{node input_6}} = Placeholder[dtype=DT_FLOAT, shape=[?,30,37], _device=\"/job:localhost/replica:0/task:0/device:CPU:0\"]()]]"
     ]
    }
   ],
   "source": [
    "attention_map = plot_attention_map(model, human_vocab, inv_machine_vocab, \"Tuesday 09 Oct 1993\", num = 7, n_s = 64)"
   ]
  },
  {
   "cell_type": "markdown",
   "metadata": {},
   "source": [
    "On the generated plot you can observe the values of the attention weights for each character of the predicted output. Examine this plot and check that where the network is paying attention makes sense to you.\n",
    "\n",
    "In the date translation application, you will observe that most of the time attention helps predict the year, and hasn't much impact on predicting the day/month."
   ]
  },
  {
   "cell_type": "markdown",
   "metadata": {},
   "source": [
    "### Congratulations!\n",
    "\n",
    "\n",
    "You have come to the end of this assignment \n",
    "\n",
    "<font color='blue'> **Here's what you should remember from this notebook**:\n",
    "\n",
    "- Machine translation models can be used to map from one sequence to another. They are useful not just for translating human languages (like French->English) but also for tasks like date format translation. \n",
    "- An attention mechanism allows a network to focus on the most relevant parts of the input when producing a specific part of the output. \n",
    "- A network using an attention mechanism can translate from inputs of length $T_x$ to outputs of length $T_y$, where $T_x$ and $T_y$ can be different. \n",
    "- You can visualize attention weights $\\alpha^{\\langle t,t' \\rangle}$ to see what the network is paying attention to while generating each output."
   ]
  },
  {
   "cell_type": "markdown",
   "metadata": {},
   "source": [
    "Congratulations on finishing this assignment! You are now able to implement an attention model and use it to learn complex mappings from one sequence to another. "
   ]
  }
 ],
 "metadata": {
  "coursera": {
   "course_slug": "nlp-sequence-models",
   "graded_item_id": "n16CQ",
   "launcher_item_id": "npjGi"
  },
  "kernelspec": {
   "display_name": "Python 3",
   "language": "python",
   "name": "python3"
  },
  "language_info": {
   "codemirror_mode": {
    "name": "ipython",
    "version": 3
   },
   "file_extension": ".py",
   "mimetype": "text/x-python",
   "name": "python",
   "nbconvert_exporter": "python",
   "pygments_lexer": "ipython3",
   "version": "3.6.5"
  }
 },
 "nbformat": 4,
 "nbformat_minor": 2
}
